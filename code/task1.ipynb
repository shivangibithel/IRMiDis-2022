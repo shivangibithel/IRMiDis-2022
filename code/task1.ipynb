{
 "cells": [
  {
   "cell_type": "markdown",
   "metadata": {
    "id": "NpnXFnMkfld3"
   },
   "source": [
    "# Installing Transformer and imports"
   ]
  },
  {
   "cell_type": "code",
   "execution_count": null,
   "metadata": {},
   "outputs": [],
   "source": [
    "!export http_proxy=\"http://proxy21.iitd.ac.in:3128\"\n",
    "!export https_proxy=\"http://proxy21.iitd.ac.in:3128\""
   ]
  },
  {
   "cell_type": "code",
   "execution_count": null,
   "metadata": {
    "id": "h78UkLjkaBbM"
   },
   "outputs": [],
   "source": [
    "import os\n",
    "import random\n",
    "import numpy as np\n",
    "import pandas as pd\n",
    "import matplotlib.pyplot as plt\n",
    "import cv2\n",
    "import os\n",
    "import math\n",
    "import tensorflow as tf\n",
    "import seaborn as sns\n",
    "# import tensorflow_datasets as tfds\n",
    "from bs4 import BeautifulSoup\n",
    "from sklearn import metrics as sk_metrics\n",
    "import nltk\n",
    "import re\n",
    "from sklearn.utils import shuffle\n",
    "import tqdm as notebook_tqdm"
   ]
  },
  {
   "cell_type": "markdown",
   "metadata": {
    "id": "4gQPIXoSfsSU"
   },
   "source": [
    "# Data read and split...for some accuracy numbers"
   ]
  },
  {
   "cell_type": "code",
   "execution_count": null,
   "metadata": {
    "id": "yYQB6za1Wup4"
   },
   "outputs": [],
   "source": [
    "col_list = [\"id\", \"tweet\", \"label\"]\n",
    "our_data = pd.read_csv(\"/home/shivangib/IRMIDIS-2022/2022/vax_train.csv\",usecols=col_list)\n",
    "df_test = pd.read_csv(\"/home/shivangib/IRMIDIS-2022/2022_test/vax_test.csv\")\n",
    "y_map = {\n",
    "    'ProVax': 0, \n",
    "    'AntiVax': 1, \n",
    "    'Neutral': 2\n",
    "}\n",
    "\n",
    "our_data['Sentiment_Cat'] = our_data['label'].map(y_map)"
   ]
  },
  {
   "cell_type": "code",
   "execution_count": null,
   "metadata": {
    "colab": {
     "base_uri": "https://localhost:8080/",
     "height": 415
    },
    "id": "WDZCx7D5i7b1",
    "outputId": "c8983ab6-08dc-4220-89b2-0782d2f68636"
   },
   "outputs": [],
   "source": [
    "our_data"
   ]
  },
  {
   "cell_type": "code",
   "execution_count": null,
   "metadata": {
    "colab": {
     "base_uri": "https://localhost:8080/",
     "height": 415
    },
    "id": "2XQVp8-Z-3Bn",
    "outputId": "97b19637-f9e0-4519-c49f-927243d56623"
   },
   "outputs": [],
   "source": [
    "df_test"
   ]
  },
  {
   "cell_type": "markdown",
   "metadata": {
    "id": "q4oExSPG-alJ"
   },
   "source": [
    "Uncomment if want testing results"
   ]
  },
  {
   "cell_type": "code",
   "execution_count": null,
   "metadata": {
    "colab": {
     "base_uri": "https://localhost:8080/"
    },
    "id": "xcT7GhhQkAib",
    "outputId": "dba114b0-773c-45c3-c2c1-f0f6c7144c1a"
   },
   "outputs": [],
   "source": [
    "from sklearn.model_selection import StratifiedShuffleSplit\n",
    "df = our_data\n",
    "split = StratifiedShuffleSplit(n_splits=1, test_size=0.1, random_state=42)\n",
    "for train_index, test_valid_index in split.split(df, df.Sentiment_Cat):\n",
    "    train_set = df.iloc[train_index]\n",
    "    test_valid_set = df.iloc[test_valid_index]\n",
    "\n",
    "# split2 = StratifiedShuffleSplit(n_splits=1, test_size=0.5, random_state=42)\n",
    "# for test_index, valid_index in split2.split(test_valid_set, test_valid_set.Sentiment_Cat):\n",
    "#     test_set = test_valid_set.iloc[test_index]\n",
    "#     valid_set = test_valid_set.iloc[valid_index]\n",
    "\n",
    "print(train_set.shape)\n",
    "print(test_valid_set.shape)\n",
    "# print(test_set.shape)\n",
    "# print(valid_set.shape)\n",
    "\n",
    "df_train = train_set\n",
    "# df_test = test_set\n",
    "df_valid = test_valid_set"
   ]
  },
  {
   "cell_type": "code",
   "execution_count": null,
   "metadata": {
    "id": "pklk6KusbGf9"
   },
   "outputs": [],
   "source": [
    "df_train.info()"
   ]
  },
  {
   "cell_type": "code",
   "execution_count": null,
   "metadata": {
    "id": "BI96posMLkQ7"
   },
   "outputs": [],
   "source": [
    "df_train.Sentiment_Cat.value_counts()"
   ]
  },
  {
   "cell_type": "code",
   "execution_count": null,
   "metadata": {
    "id": "hxH0PYoLL0rF"
   },
   "outputs": [],
   "source": [
    "df_test.Sentiment_Cat.value_counts()"
   ]
  },
  {
   "cell_type": "code",
   "execution_count": null,
   "metadata": {
    "id": "xhF9mMVKbnBN"
   },
   "outputs": [],
   "source": [
    "df_train.head()"
   ]
  },
  {
   "cell_type": "code",
   "execution_count": null,
   "metadata": {
    "colab": {
     "base_uri": "https://localhost:8080/",
     "height": 68
    },
    "id": "1UXvi9kQve9y",
    "outputId": "35d637d3-f476-4704-af9b-4d77aacb1aaa"
   },
   "outputs": [],
   "source": [
    "df_train['tweet'].iloc[0]"
   ]
  },
  {
   "cell_type": "code",
   "execution_count": null,
   "metadata": {},
   "outputs": [],
   "source": [
    "df_test.head()"
   ]
  },
  {
   "cell_type": "code",
   "execution_count": null,
   "metadata": {
    "id": "LbVsoiYsbuYF"
   },
   "outputs": [],
   "source": [
    "# y_map = {\n",
    "#     'ProVax': 0, \n",
    "#     'AntiVax': 1, \n",
    "#     'Neutral': 2\n",
    "# }\n",
    "\n",
    "# df_train['Sentiment_Cat'] = df_train['label'].map(y_map)\n",
    "# df_test['Sentiment_Cat'] = df_test['label'].map(y_map)"
   ]
  },
  {
   "cell_type": "markdown",
   "metadata": {
    "id": "2DzTRCQFf21N"
   },
   "source": [
    "# Pre-processing"
   ]
  },
  {
   "cell_type": "code",
   "execution_count": null,
   "metadata": {
    "colab": {
     "base_uri": "https://localhost:8080/"
    },
    "id": "Vwhr9am41KrZ",
    "outputId": "83b8e0a3-82aa-4349-97fc-26c77b6f0d3a"
   },
   "outputs": [],
   "source": [
    "import sys\n",
    "import re\n",
    "# !pip install emoji --quiet\n",
    "import emoji\n",
    "# !pip install contractions --quiet\n",
    "import contractions\n",
    "import nltk\n",
    "from nltk.corpus import stopwords\n",
    "# nltk.download('stopwords')\n",
    "import unicodedata"
   ]
  },
  {
   "cell_type": "code",
   "execution_count": null,
   "metadata": {
    "id": "n9qKs19_0pZ9"
   },
   "outputs": [],
   "source": [
    "def cleaning(text):\n",
    "  text= text.lower()\n",
    "  text= emoji.demojize(text)\n",
    "  text=contractions.fix(text)\n",
    "  text=text.strip()\n",
    "  text=text.replace('[^\\w\\s]','')\n",
    "  text=re.sub(r'http\\S+', '', text)\n",
    "  REPLACE_BY_SPACE_RE = re.compile('[/(){}\\[\\]\\|@,;]')\n",
    "  BAD_SYMBOLS_RE = re.compile('[^0-9a-z +]')\n",
    "  text = REPLACE_BY_SPACE_RE.sub(' ' , text)\n",
    "  text = BAD_SYMBOLS_RE.sub(' ',text)\n",
    "  \n",
    "  return text\n",
    "df_train['tweet_cleaned'] = df_train['tweet'].apply(cleaning)\n",
    "df_test['tweet_cleaned'] = df_test['tweet'].apply(cleaning)\n",
    "df_valid['tweet_cleaned'] = df_valid['tweet'].apply(cleaning)\n",
    "df_train['tweet_cleaned'].iloc[0]"
   ]
  },
  {
   "cell_type": "code",
   "execution_count": null,
   "metadata": {
    "id": "UzhyEzc2dIsv"
   },
   "outputs": [],
   "source": [
    "x_train, y_train = df_train['tweet_cleaned'].values, np.array(df_train['Sentiment_Cat'], dtype=np.int64)\n",
    "# x_test, y_test = df_test['tweet_cleaned'].values, np.array(df_test['Sentiment_Cat'], dtype=np.int64)\n",
    "x_valid, y_valid = df_valid['tweet_cleaned'].values, np.array(df_valid['Sentiment_Cat'], dtype=np.int64)\n",
    "\n",
    "\n",
    "x_test = df_test['tweet_cleaned'].values"
   ]
  },
  {
   "cell_type": "markdown",
   "metadata": {
    "id": "PT_1dcod_bHJ"
   },
   "source": [
    "# Data Exploration"
   ]
  },
  {
   "cell_type": "code",
   "execution_count": null,
   "metadata": {
    "id": "BtfsgOX5YoAg"
   },
   "outputs": [],
   "source": [
    "data = df_train\n",
    "Neutral_data = data[data['Sentiment_Cat'] == 2]\n",
    "Antivax_data = data[data['Sentiment_Cat'] == 1]\n",
    "Provax_data = data[data['Sentiment_Cat'] == 0]"
   ]
  },
  {
   "cell_type": "code",
   "execution_count": null,
   "metadata": {
    "colab": {
     "base_uri": "https://localhost:8080/"
    },
    "id": "auW5p-QfYaQc",
    "outputId": "1d6509d3-fd2b-45b6-ba0c-9e3f46053dc5"
   },
   "outputs": [],
   "source": [
    "# df = Antivax_data\n",
    "a=[]\n",
    "for i in range(len(Antivax_data)):\n",
    "  a.append(len(Antivax_data['tweet_cleaned'].iloc[i].split()))\n",
    "print(max(a))\n",
    "# df = Provax_data\n",
    "b=[]\n",
    "for i in range(len(Provax_data)):\n",
    "  b.append(len(Provax_data['tweet_cleaned'].iloc[i].split()))\n",
    "print(max(b))\n",
    "# df = Neutral_data\n",
    "c=[]\n",
    "for i in range(len(Neutral_data)):\n",
    "  c.append(len(Neutral_data['tweet_cleaned'].iloc[i].split()))\n",
    "print(max(c))\n",
    "print(len(Neutral_data), len(Antivax_data), len(Provax_data))"
   ]
  },
  {
   "cell_type": "code",
   "execution_count": null,
   "metadata": {
    "colab": {
     "base_uri": "https://localhost:8080/",
     "height": 851
    },
    "id": "EjmubgzJYTWN",
    "outputId": "4cd36a3c-96ba-4287-da95-20cdd8fd6aa1"
   },
   "outputs": [],
   "source": [
    "import numpy as np\n",
    "import matplotlib.pyplot as plt\n",
    "from numpy import *\n",
    "plt.hist(a,bins= 80, label = \"AntiVax\")\n",
    "plt.legend()\n",
    "plt.xlabel('Length')\n",
    "plt.ylabel('Frequecy')\n",
    "plt.title('Length Histogram')\n",
    "plt.show()\n",
    "plt.hist(b,bins= 60, label = \"ProVax\")\n",
    "plt.legend()\n",
    "plt.xlabel('Length')\n",
    "plt.ylabel('Frequecy')\n",
    "plt.title('Length Histogram')\n",
    "plt.show()\n",
    "plt.hist(c, bins= 60, label = \"Neutral\")\n",
    "plt.legend()\n",
    "plt.xlabel('Length')\n",
    "plt.ylabel('Frequecy')\n",
    "plt.title('Length Histogram')\n",
    "plt.show()"
   ]
  },
  {
   "cell_type": "markdown",
   "metadata": {
    "id": "WBm7fSLdjNsK"
   },
   "source": [
    "# BERT"
   ]
  },
  {
   "cell_type": "code",
   "execution_count": null,
   "metadata": {
    "id": "UfVEmb5Idiv5"
   },
   "outputs": [],
   "source": [
    "from tokenizers import BertWordPieceTokenizer\n",
    "import transformers"
   ]
  },
  {
   "cell_type": "code",
   "execution_count": null,
   "metadata": {
    "colab": {
     "base_uri": "https://localhost:8080/",
     "height": 200,
     "referenced_widgets": [
      "5360080619a54288b1c944bdeff63ed8",
      "12cba3acb72c4241932490311a3db9b7",
      "545f8142e13a416797d7bc4447eec9b3",
      "240e3928c7b0429b840bb295344096d8",
      "ef8bb469b2bd41e0a0542e13511cb41d",
      "05594b7d82d74adcbd29779e61456fdc",
      "047433edb2294ed6a5d09485461dafaf",
      "8199b5e19de740aaaf0914965592da67",
      "5b36de7b57514e6d856b0c28e9fdda89",
      "39f380c5ce5d4b28b7ee38f8443de392",
      "9654d2e9944441cb8f47c4cef976a56d",
      "f761fda51efb470d86985f2c9a6a615b",
      "91c603866e604cde9081ffeb231b96ff",
      "caa5ff43ddef4b74bbcc2ce9e36a100b",
      "ad0d79bd1fd847b38e7ce1a67266bb21",
      "b860f7e56c9c43b1b8088b41c18ac974",
      "7d4f84f81fc543e19708199e8f0635c5",
      "b0f4d5c64f76419fa11802b3fe8d5f07",
      "8db0301f01a94d28bc76a1e3e675eb4d",
      "6566e64742254d31881c08655ff5eb14",
      "9adbcf2684204b3abdb55f132751aceb",
      "46fcc097a774471d9d5b0da462d0adee",
      "331ba15225904739948ee6b85eab1681",
      "d4caac91813642d5b4c099f6e378cc43"
     ]
    },
    "id": "8o7uh0Gbdlmf",
    "outputId": "cb04027b-5e8a-494a-bc0a-b2cc7297e366"
   },
   "outputs": [],
   "source": [
    "# First load the real tokenizer\n",
    "# tokenizer = transformers.BertTokenizerFast.from_pretrained('bert-base-uncased', lower=True)\n",
    "\n",
    "# Save the loaded tokenizer locally\n",
    "# tokenizer.save_pretrained('.')\n",
    "\n",
    "tokenizer = transformers.BertTokenizerFast.from_pretrained('.')\n",
    "\n",
    "# Reload it with the huggingface tokenizers library\n",
    "fast_tokenizer = BertWordPieceTokenizer('vocab.txt', lowercase=True)\n",
    "fast_tokenizer"
   ]
  },
  {
   "cell_type": "code",
   "execution_count": null,
   "metadata": {
    "id": "Vvy3OyJddodD"
   },
   "outputs": [],
   "source": [
    "def fast_encode(texts, tokenizer, chunk_size=256, maxlen=200):\n",
    "    tokenizer.enable_truncation(max_length=maxlen)\n",
    "    tokenizer.enable_padding(length=maxlen)\n",
    "    all_ids = []\n",
    "    \n",
    "    for i in range(0, len(texts), chunk_size):\n",
    "        text_chunk = texts[i:i+chunk_size].tolist()\n",
    "        encs = tokenizer.encode_batch(text_chunk)\n",
    "        all_ids.extend([enc.ids for enc in encs])\n",
    "    \n",
    "    return np.array(all_ids)"
   ]
  },
  {
   "cell_type": "code",
   "execution_count": null,
   "metadata": {
    "id": "Q9LJvgi0d5i-"
   },
   "outputs": [],
   "source": [
    "max_len=70\n",
    "x_train_enc = fast_encode(x_train, fast_tokenizer, maxlen=max_len)\n",
    "x_valid_enc = fast_encode(x_valid, fast_tokenizer, maxlen=max_len)\n",
    "x_test_enc = fast_encode(x_test, fast_tokenizer, maxlen=max_len)"
   ]
  },
  {
   "cell_type": "code",
   "execution_count": null,
   "metadata": {
    "id": "pcBnfPChd9PO"
   },
   "outputs": [],
   "source": [
    "NUM_CLASSES = df_train['Sentiment_Cat'].nunique()\n",
    "\n",
    "# bert_transformer = transformers.TFDistilBertModel.from_pretrained('distilbert-base-uncased')\n",
    "# bert_transformer = transformers.TFBertForSequenceClassification.from_pretrained('bert-base-uncased', num_labels=NUM_CLASSES)\n",
    "bert_transformer = transformers.TFBertForSequenceClassification.from_pretrained('digitalepidemiologylab/covid-twitter-bert-v2', num_labels=NUM_CLASSES)\n",
    "# bert_transformer.save_pretrainined(\".\")\n",
    "\n",
    "input = tf.keras.layers.Input(shape=(max_len,), dtype=tf.int32)\n",
    "sequence_output = bert_transformer(input)[0]\n",
    "# cls_token = sequence_output[:, 0, :]\n",
    "# output = tf.keras.layers.Dense(NUM_CLASSES, activation='softmax')(cls_token)\n",
    "\n",
    "model = tf.keras.Model(inputs=input, outputs=sequence_output)\n",
    "model.compile(optimizer=tf.keras.optimizers.Adam(1e-5), loss=tf.keras.losses.SparseCategoricalCrossentropy(from_logits=True), metrics=['accuracy'])"
   ]
  },
  {
   "cell_type": "code",
   "execution_count": null,
   "metadata": {
    "colab": {
     "base_uri": "https://localhost:8080/"
    },
    "id": "0bliWbCjeRLV",
    "outputId": "e29b3d84-d538-461c-91c9-687449e5c906"
   },
   "outputs": [],
   "source": [
    "model.summary()"
   ]
  },
  {
   "cell_type": "code",
   "execution_count": null,
   "metadata": {
    "colab": {
     "base_uri": "https://localhost:8080/"
    },
    "id": "WRLoFJv0lTip",
    "outputId": "1e9bf638-7ac0-423b-fd0d-5d1eee9cf9bc"
   },
   "outputs": [],
   "source": [
    "# call backs\n",
    "early_stop_callback = tf.keras.callbacks.EarlyStopping(\n",
    "    monitor='val_loss', \n",
    "    patience=3, \n",
    "    restore_best_weights=True\n",
    ")\n",
    "\n",
    "history = model.fit(\n",
    "    x_train_enc,\n",
    "    y_train,\n",
    "    batch_size=16,\n",
    "    validation_data=(x_valid_enc, y_valid),\n",
    "    epochs=50,\n",
    "    callbacks=[early_stop_callback])"
   ]
  },
  {
   "cell_type": "markdown",
   "metadata": {
    "id": "sPB9-wqXjSRo"
   },
   "source": [
    "# Prediction "
   ]
  },
  {
   "cell_type": "code",
   "execution_count": null,
   "metadata": {
    "colab": {
     "base_uri": "https://localhost:8080/"
    },
    "id": "zY9uNgVAe0MP",
    "outputId": "3100ca1f-c0f4-46cc-9567-273895e5f4d9"
   },
   "outputs": [],
   "source": [
    "ypred = model.predict(x_test_enc)\n",
    "ypred\n",
    "# df_test['ypred'] = np.argmax(ypred, axis=1)\n",
    "# df_test['ypred_cat'] = np.where(df_test['ypred']>=0.5, 1, 0)\n",
    "# df_test['ypred_cat'] = np.argmax(ypred, axis=1)\n",
    "# df_test"
   ]
  },
  {
   "cell_type": "code",
   "execution_count": null,
   "metadata": {},
   "outputs": [],
   "source": [
    "print(np.argmax(ypred, axis=1))"
   ]
  },
  {
   "cell_type": "code",
   "execution_count": null,
   "metadata": {
    "colab": {
     "base_uri": "https://localhost:8080/",
     "height": 703
    },
    "id": "nXW9PMzVGmSF",
    "outputId": "f6d88f4b-8dea-4cbf-d011-9da4a44b188f"
   },
   "outputs": [],
   "source": [
    "df_test['ypred'] = np.argmax(ypred, axis=1)\n",
    "df_test"
   ]
  },
  {
   "cell_type": "code",
   "execution_count": null,
   "metadata": {},
   "outputs": [],
   "source": [
    "# df_test1[\"id\"]= df_test[\"id\"]\n",
    "df_test.to_csv(\"submission.csv\")"
   ]
  },
  {
   "cell_type": "code",
   "execution_count": null,
   "metadata": {
    "colab": {
     "base_uri": "https://localhost:8080/",
     "height": 295
    },
    "id": "3XLO099856Xm",
    "outputId": "48dc564b-bb94-45f5-9c2c-97b0b0c4582e"
   },
   "outputs": [],
   "source": [
    "y_map_inv = {\n",
    "    0: 'ProVax',\n",
    "    1: 'AntiVax',\n",
    "    2: 'Neutral'\n",
    "}\n",
    "\n",
    "# y_map = {\n",
    "#     'ProVax': 0, \n",
    "#     'AntiVax': 1, \n",
    "#     'Neutral': 2\n",
    "# }\n",
    "\n",
    "sns.heatmap(\n",
    "    pd.crosstab(df_test['ypred'].map(y_map_inv), df_test['Sentiment_Cat'].map(y_map_inv)),\n",
    "    annot=True,\n",
    "    fmt='0.0f',\n",
    "    cbar=False,\n",
    "    linewidth=2,\n",
    "    cmap='coolwarm'     \n",
    ")\n",
    "\n",
    "plt.xlabel('True')\n",
    "plt.ylabel('Predicted')\n",
    "plt.title('Confusion Matrix');"
   ]
  },
  {
   "cell_type": "code",
   "execution_count": null,
   "metadata": {
    "colab": {
     "base_uri": "https://localhost:8080/"
    },
    "id": "emwFinxTloyj",
    "outputId": "a0506108-9c50-413d-eea5-93cb6f6711ea"
   },
   "outputs": [],
   "source": [
    "y_test = df_test['Sentiment_Cat'].map(y_map_inv)\n",
    "y_pred = df_test['ypred'].map(y_map_inv)\n",
    "#importing confusion matrix\n",
    "from sklearn.metrics import confusion_matrix\n",
    "confusion = confusion_matrix(y_test, y_pred)\n",
    "print('Confusion Matrix\\n')\n",
    "print(confusion)\n",
    "\n",
    "#importing accuracy_score, precision_score, recall_score, f1_score\n",
    "from sklearn.metrics import accuracy_score, precision_score, recall_score, f1_score\n",
    "print('\\nAccuracy: {:.2f}\\n'.format(accuracy_score(y_test, y_pred)))\n",
    "\n",
    "print('Micro Precision: {:.2f}'.format(precision_score(y_test, y_pred, average='micro')))\n",
    "print('Micro Recall: {:.2f}'.format(recall_score(y_test, y_pred, average='micro')))\n",
    "print('Micro F1-score: {:.2f}\\n'.format(f1_score(y_test, y_pred, average='micro')))\n",
    "\n",
    "print('Macro Precision: {:.2f}'.format(precision_score(y_test, y_pred, average='macro')))\n",
    "print('Macro Recall: {:.2f}'.format(recall_score(y_test, y_pred, average='macro')))\n",
    "print('Macro F1-score: {:.2f}\\n'.format(f1_score(y_test, y_pred, average='macro')))\n",
    "\n",
    "print('Weighted Precision: {:.2f}'.format(precision_score(y_test, y_pred, average='weighted')))\n",
    "print('Weighted Recall: {:.2f}'.format(recall_score(y_test, y_pred, average='weighted')))\n",
    "print('Weighted F1-score: {:.2f}'.format(f1_score(y_test, y_pred, average='weighted')))\n",
    "\n",
    "from sklearn.metrics import classification_report\n",
    "print('\\nClassification Report\\n')\n",
    "print(classification_report(y_test, y_pred, target_names=['Class 1', 'Class 2', 'Class 3']))\n"
   ]
  },
  {
   "cell_type": "code",
   "execution_count": 7,
   "metadata": {},
   "outputs": [],
   "source": [
    "y_map_inv = {\n",
    "    0: 'ProVax',\n",
    "    1: 'AntiVax',\n",
    "    2: 'Neutral'\n",
    "}"
   ]
  },
  {
   "cell_type": "code",
   "execution_count": 5,
   "metadata": {},
   "outputs": [],
   "source": [
    "import pandas as pd\n",
    "df1 = pd.read_csv(\"task1_run1.csv\")\n",
    "df2 = pd.read_csv(\"task1_run2.csv\")"
   ]
  },
  {
   "cell_type": "code",
   "execution_count": 11,
   "metadata": {},
   "outputs": [
    {
     "data": {
      "text/html": [
       "<div>\n",
       "<style scoped>\n",
       "    .dataframe tbody tr th:only-of-type {\n",
       "        vertical-align: middle;\n",
       "    }\n",
       "\n",
       "    .dataframe tbody tr th {\n",
       "        vertical-align: top;\n",
       "    }\n",
       "\n",
       "    .dataframe thead th {\n",
       "        text-align: right;\n",
       "    }\n",
       "</style>\n",
       "<table border=\"1\" class=\"dataframe\">\n",
       "  <thead>\n",
       "    <tr style=\"text-align: right;\">\n",
       "      <th></th>\n",
       "      <th>id</th>\n",
       "      <th>pred</th>\n",
       "    </tr>\n",
       "  </thead>\n",
       "  <tbody>\n",
       "    <tr>\n",
       "      <th>0</th>\n",
       "      <td>1472958183882719233t</td>\n",
       "      <td>ProVax</td>\n",
       "    </tr>\n",
       "    <tr>\n",
       "      <th>1</th>\n",
       "      <td>1449995880904470529t</td>\n",
       "      <td>AntiVax</td>\n",
       "    </tr>\n",
       "    <tr>\n",
       "      <th>2</th>\n",
       "      <td>1480413964265660416t</td>\n",
       "      <td>Neutral</td>\n",
       "    </tr>\n",
       "    <tr>\n",
       "      <th>3</th>\n",
       "      <td>1408119497962057742t</td>\n",
       "      <td>ProVax</td>\n",
       "    </tr>\n",
       "    <tr>\n",
       "      <th>4</th>\n",
       "      <td>1439361704320806915t</td>\n",
       "      <td>Neutral</td>\n",
       "    </tr>\n",
       "    <tr>\n",
       "      <th>5</th>\n",
       "      <td>1478769637282230274t</td>\n",
       "      <td>ProVax</td>\n",
       "    </tr>\n",
       "    <tr>\n",
       "      <th>6</th>\n",
       "      <td>1472297934633017344t</td>\n",
       "      <td>ProVax</td>\n",
       "    </tr>\n",
       "    <tr>\n",
       "      <th>7</th>\n",
       "      <td>1520114105985769475t</td>\n",
       "      <td>ProVax</td>\n",
       "    </tr>\n",
       "    <tr>\n",
       "      <th>8</th>\n",
       "      <td>1423827464573255683t</td>\n",
       "      <td>Neutral</td>\n",
       "    </tr>\n",
       "    <tr>\n",
       "      <th>9</th>\n",
       "      <td>1479557209751175174t</td>\n",
       "      <td>Neutral</td>\n",
       "    </tr>\n",
       "  </tbody>\n",
       "</table>\n",
       "</div>"
      ],
      "text/plain": [
       "                     id     pred\n",
       "0  1472958183882719233t   ProVax\n",
       "1  1449995880904470529t  AntiVax\n",
       "2  1480413964265660416t  Neutral\n",
       "3  1408119497962057742t   ProVax\n",
       "4  1439361704320806915t  Neutral\n",
       "5  1478769637282230274t   ProVax\n",
       "6  1472297934633017344t   ProVax\n",
       "7  1520114105985769475t   ProVax\n",
       "8  1423827464573255683t  Neutral\n",
       "9  1479557209751175174t  Neutral"
      ]
     },
     "execution_count": 11,
     "metadata": {},
     "output_type": "execute_result"
    }
   ],
   "source": [
    "df2.head(10)"
   ]
  },
  {
   "cell_type": "code",
   "execution_count": 8,
   "metadata": {},
   "outputs": [],
   "source": [
    "df1['pred'] = df1['pred'].map(y_map_inv)"
   ]
  },
  {
   "cell_type": "code",
   "execution_count": 10,
   "metadata": {},
   "outputs": [],
   "source": [
    "df2['pred'] = df2['pred'].map(y_map_inv)"
   ]
  },
  {
   "cell_type": "code",
   "execution_count": 12,
   "metadata": {},
   "outputs": [
    {
     "data": {
      "text/plain": [
       "Neutral    341\n",
       "ProVax     248\n",
       "AntiVax    128\n",
       "Name: pred, dtype: int64"
      ]
     },
     "execution_count": 12,
     "metadata": {},
     "output_type": "execute_result"
    }
   ],
   "source": [
    "df1.pred.value_counts()"
   ]
  },
  {
   "cell_type": "code",
   "execution_count": 13,
   "metadata": {},
   "outputs": [
    {
     "data": {
      "text/plain": [
       "Neutral    296\n",
       "ProVax     220\n",
       "AntiVax    201\n",
       "Name: pred, dtype: int64"
      ]
     },
     "execution_count": 13,
     "metadata": {},
     "output_type": "execute_result"
    }
   ],
   "source": [
    "df2.pred.value_counts()"
   ]
  },
  {
   "cell_type": "code",
   "execution_count": 14,
   "metadata": {},
   "outputs": [],
   "source": [
    "df1.to_csv(\"task1_run1.csv\")"
   ]
  },
  {
   "cell_type": "code",
   "execution_count": 15,
   "metadata": {},
   "outputs": [],
   "source": [
    "df2.to_csv(\"task1_run2.csv\")"
   ]
  },
  {
   "cell_type": "code",
   "execution_count": null,
   "metadata": {},
   "outputs": [],
   "source": []
  }
 ],
 "metadata": {
  "accelerator": "GPU",
  "colab": {
   "collapsed_sections": [],
   "name": "BERT.ipynb",
   "provenance": [],
   "toc_visible": true
  },
  "kernelspec": {
   "display_name": "Python 3 (ipykernel)",
   "language": "python",
   "name": "python3"
  },
  "language_info": {
   "codemirror_mode": {
    "name": "ipython",
    "version": 3
   },
   "file_extension": ".py",
   "mimetype": "text/x-python",
   "name": "python",
   "nbconvert_exporter": "python",
   "pygments_lexer": "ipython3",
   "version": "3.8.13"
  },
  "widgets": {
   "application/vnd.jupyter.widget-state+json": {
    "047433edb2294ed6a5d09485461dafaf": {
     "model_module": "@jupyter-widgets/controls",
     "model_module_version": "1.5.0",
     "model_name": "DescriptionStyleModel",
     "state": {
      "_model_module": "@jupyter-widgets/controls",
      "_model_module_version": "1.5.0",
      "_model_name": "DescriptionStyleModel",
      "_view_count": null,
      "_view_module": "@jupyter-widgets/base",
      "_view_module_version": "1.2.0",
      "_view_name": "StyleView",
      "description_width": ""
     }
    },
    "05594b7d82d74adcbd29779e61456fdc": {
     "model_module": "@jupyter-widgets/base",
     "model_module_version": "1.2.0",
     "model_name": "LayoutModel",
     "state": {
      "_model_module": "@jupyter-widgets/base",
      "_model_module_version": "1.2.0",
      "_model_name": "LayoutModel",
      "_view_count": null,
      "_view_module": "@jupyter-widgets/base",
      "_view_module_version": "1.2.0",
      "_view_name": "LayoutView",
      "align_content": null,
      "align_items": null,
      "align_self": null,
      "border": null,
      "bottom": null,
      "display": null,
      "flex": null,
      "flex_flow": null,
      "grid_area": null,
      "grid_auto_columns": null,
      "grid_auto_flow": null,
      "grid_auto_rows": null,
      "grid_column": null,
      "grid_gap": null,
      "grid_row": null,
      "grid_template_areas": null,
      "grid_template_columns": null,
      "grid_template_rows": null,
      "height": null,
      "justify_content": null,
      "justify_items": null,
      "left": null,
      "margin": null,
      "max_height": null,
      "max_width": null,
      "min_height": null,
      "min_width": null,
      "object_fit": null,
      "object_position": null,
      "order": null,
      "overflow": null,
      "overflow_x": null,
      "overflow_y": null,
      "padding": null,
      "right": null,
      "top": null,
      "visibility": null,
      "width": null
     }
    },
    "12cba3acb72c4241932490311a3db9b7": {
     "model_module": "@jupyter-widgets/base",
     "model_module_version": "1.2.0",
     "model_name": "LayoutModel",
     "state": {
      "_model_module": "@jupyter-widgets/base",
      "_model_module_version": "1.2.0",
      "_model_name": "LayoutModel",
      "_view_count": null,
      "_view_module": "@jupyter-widgets/base",
      "_view_module_version": "1.2.0",
      "_view_name": "LayoutView",
      "align_content": null,
      "align_items": null,
      "align_self": null,
      "border": null,
      "bottom": null,
      "display": null,
      "flex": null,
      "flex_flow": null,
      "grid_area": null,
      "grid_auto_columns": null,
      "grid_auto_flow": null,
      "grid_auto_rows": null,
      "grid_column": null,
      "grid_gap": null,
      "grid_row": null,
      "grid_template_areas": null,
      "grid_template_columns": null,
      "grid_template_rows": null,
      "height": null,
      "justify_content": null,
      "justify_items": null,
      "left": null,
      "margin": null,
      "max_height": null,
      "max_width": null,
      "min_height": null,
      "min_width": null,
      "object_fit": null,
      "object_position": null,
      "order": null,
      "overflow": null,
      "overflow_x": null,
      "overflow_y": null,
      "padding": null,
      "right": null,
      "top": null,
      "visibility": null,
      "width": null
     }
    },
    "240e3928c7b0429b840bb295344096d8": {
     "model_module": "@jupyter-widgets/controls",
     "model_module_version": "1.5.0",
     "model_name": "HTMLModel",
     "state": {
      "_dom_classes": [],
      "_model_module": "@jupyter-widgets/controls",
      "_model_module_version": "1.5.0",
      "_model_name": "HTMLModel",
      "_view_count": null,
      "_view_module": "@jupyter-widgets/controls",
      "_view_module_version": "1.5.0",
      "_view_name": "HTMLView",
      "description": "",
      "description_tooltip": null,
      "layout": "IPY_MODEL_8199b5e19de740aaaf0914965592da67",
      "placeholder": "​",
      "style": "IPY_MODEL_047433edb2294ed6a5d09485461dafaf",
      "value": " 232k/232k [00:00&lt;00:00, 1.80MB/s]"
     }
    },
    "331ba15225904739948ee6b85eab1681": {
     "model_module": "@jupyter-widgets/controls",
     "model_module_version": "1.5.0",
     "model_name": "DescriptionStyleModel",
     "state": {
      "_model_module": "@jupyter-widgets/controls",
      "_model_module_version": "1.5.0",
      "_model_name": "DescriptionStyleModel",
      "_view_count": null,
      "_view_module": "@jupyter-widgets/base",
      "_view_module_version": "1.2.0",
      "_view_name": "StyleView",
      "description_width": ""
     }
    },
    "39f380c5ce5d4b28b7ee38f8443de392": {
     "model_module": "@jupyter-widgets/base",
     "model_module_version": "1.2.0",
     "model_name": "LayoutModel",
     "state": {
      "_model_module": "@jupyter-widgets/base",
      "_model_module_version": "1.2.0",
      "_model_name": "LayoutModel",
      "_view_count": null,
      "_view_module": "@jupyter-widgets/base",
      "_view_module_version": "1.2.0",
      "_view_name": "LayoutView",
      "align_content": null,
      "align_items": null,
      "align_self": null,
      "border": null,
      "bottom": null,
      "display": null,
      "flex": null,
      "flex_flow": null,
      "grid_area": null,
      "grid_auto_columns": null,
      "grid_auto_flow": null,
      "grid_auto_rows": null,
      "grid_column": null,
      "grid_gap": null,
      "grid_row": null,
      "grid_template_areas": null,
      "grid_template_columns": null,
      "grid_template_rows": null,
      "height": null,
      "justify_content": null,
      "justify_items": null,
      "left": null,
      "margin": null,
      "max_height": null,
      "max_width": null,
      "min_height": null,
      "min_width": null,
      "object_fit": null,
      "object_position": null,
      "order": null,
      "overflow": null,
      "overflow_x": null,
      "overflow_y": null,
      "padding": null,
      "right": null,
      "top": null,
      "visibility": null,
      "width": null
     }
    },
    "46fcc097a774471d9d5b0da462d0adee": {
     "model_module": "@jupyter-widgets/base",
     "model_module_version": "1.2.0",
     "model_name": "LayoutModel",
     "state": {
      "_model_module": "@jupyter-widgets/base",
      "_model_module_version": "1.2.0",
      "_model_name": "LayoutModel",
      "_view_count": null,
      "_view_module": "@jupyter-widgets/base",
      "_view_module_version": "1.2.0",
      "_view_name": "LayoutView",
      "align_content": null,
      "align_items": null,
      "align_self": null,
      "border": null,
      "bottom": null,
      "display": null,
      "flex": null,
      "flex_flow": null,
      "grid_area": null,
      "grid_auto_columns": null,
      "grid_auto_flow": null,
      "grid_auto_rows": null,
      "grid_column": null,
      "grid_gap": null,
      "grid_row": null,
      "grid_template_areas": null,
      "grid_template_columns": null,
      "grid_template_rows": null,
      "height": null,
      "justify_content": null,
      "justify_items": null,
      "left": null,
      "margin": null,
      "max_height": null,
      "max_width": null,
      "min_height": null,
      "min_width": null,
      "object_fit": null,
      "object_position": null,
      "order": null,
      "overflow": null,
      "overflow_x": null,
      "overflow_y": null,
      "padding": null,
      "right": null,
      "top": null,
      "visibility": null,
      "width": null
     }
    },
    "5360080619a54288b1c944bdeff63ed8": {
     "model_module": "@jupyter-widgets/controls",
     "model_module_version": "1.5.0",
     "model_name": "HBoxModel",
     "state": {
      "_dom_classes": [],
      "_model_module": "@jupyter-widgets/controls",
      "_model_module_version": "1.5.0",
      "_model_name": "HBoxModel",
      "_view_count": null,
      "_view_module": "@jupyter-widgets/controls",
      "_view_module_version": "1.5.0",
      "_view_name": "HBoxView",
      "box_style": "",
      "children": [
       "IPY_MODEL_545f8142e13a416797d7bc4447eec9b3",
       "IPY_MODEL_240e3928c7b0429b840bb295344096d8"
      ],
      "layout": "IPY_MODEL_12cba3acb72c4241932490311a3db9b7"
     }
    },
    "545f8142e13a416797d7bc4447eec9b3": {
     "model_module": "@jupyter-widgets/controls",
     "model_module_version": "1.5.0",
     "model_name": "FloatProgressModel",
     "state": {
      "_dom_classes": [],
      "_model_module": "@jupyter-widgets/controls",
      "_model_module_version": "1.5.0",
      "_model_name": "FloatProgressModel",
      "_view_count": null,
      "_view_module": "@jupyter-widgets/controls",
      "_view_module_version": "1.5.0",
      "_view_name": "ProgressView",
      "bar_style": "success",
      "description": "Downloading: 100%",
      "description_tooltip": null,
      "layout": "IPY_MODEL_05594b7d82d74adcbd29779e61456fdc",
      "max": 231508,
      "min": 0,
      "orientation": "horizontal",
      "style": "IPY_MODEL_ef8bb469b2bd41e0a0542e13511cb41d",
      "value": 231508
     }
    },
    "5b36de7b57514e6d856b0c28e9fdda89": {
     "model_module": "@jupyter-widgets/controls",
     "model_module_version": "1.5.0",
     "model_name": "HBoxModel",
     "state": {
      "_dom_classes": [],
      "_model_module": "@jupyter-widgets/controls",
      "_model_module_version": "1.5.0",
      "_model_name": "HBoxModel",
      "_view_count": null,
      "_view_module": "@jupyter-widgets/controls",
      "_view_module_version": "1.5.0",
      "_view_name": "HBoxView",
      "box_style": "",
      "children": [
       "IPY_MODEL_9654d2e9944441cb8f47c4cef976a56d",
       "IPY_MODEL_f761fda51efb470d86985f2c9a6a615b"
      ],
      "layout": "IPY_MODEL_39f380c5ce5d4b28b7ee38f8443de392"
     }
    },
    "6566e64742254d31881c08655ff5eb14": {
     "model_module": "@jupyter-widgets/controls",
     "model_module_version": "1.5.0",
     "model_name": "HTMLModel",
     "state": {
      "_dom_classes": [],
      "_model_module": "@jupyter-widgets/controls",
      "_model_module_version": "1.5.0",
      "_model_name": "HTMLModel",
      "_view_count": null,
      "_view_module": "@jupyter-widgets/controls",
      "_view_module_version": "1.5.0",
      "_view_name": "HTMLView",
      "description": "",
      "description_tooltip": null,
      "layout": "IPY_MODEL_d4caac91813642d5b4c099f6e378cc43",
      "placeholder": "​",
      "style": "IPY_MODEL_331ba15225904739948ee6b85eab1681",
      "value": " 28.0/28.0 [00:15&lt;00:00, 1.85B/s]"
     }
    },
    "7d4f84f81fc543e19708199e8f0635c5": {
     "model_module": "@jupyter-widgets/controls",
     "model_module_version": "1.5.0",
     "model_name": "HBoxModel",
     "state": {
      "_dom_classes": [],
      "_model_module": "@jupyter-widgets/controls",
      "_model_module_version": "1.5.0",
      "_model_name": "HBoxModel",
      "_view_count": null,
      "_view_module": "@jupyter-widgets/controls",
      "_view_module_version": "1.5.0",
      "_view_name": "HBoxView",
      "box_style": "",
      "children": [
       "IPY_MODEL_8db0301f01a94d28bc76a1e3e675eb4d",
       "IPY_MODEL_6566e64742254d31881c08655ff5eb14"
      ],
      "layout": "IPY_MODEL_b0f4d5c64f76419fa11802b3fe8d5f07"
     }
    },
    "8199b5e19de740aaaf0914965592da67": {
     "model_module": "@jupyter-widgets/base",
     "model_module_version": "1.2.0",
     "model_name": "LayoutModel",
     "state": {
      "_model_module": "@jupyter-widgets/base",
      "_model_module_version": "1.2.0",
      "_model_name": "LayoutModel",
      "_view_count": null,
      "_view_module": "@jupyter-widgets/base",
      "_view_module_version": "1.2.0",
      "_view_name": "LayoutView",
      "align_content": null,
      "align_items": null,
      "align_self": null,
      "border": null,
      "bottom": null,
      "display": null,
      "flex": null,
      "flex_flow": null,
      "grid_area": null,
      "grid_auto_columns": null,
      "grid_auto_flow": null,
      "grid_auto_rows": null,
      "grid_column": null,
      "grid_gap": null,
      "grid_row": null,
      "grid_template_areas": null,
      "grid_template_columns": null,
      "grid_template_rows": null,
      "height": null,
      "justify_content": null,
      "justify_items": null,
      "left": null,
      "margin": null,
      "max_height": null,
      "max_width": null,
      "min_height": null,
      "min_width": null,
      "object_fit": null,
      "object_position": null,
      "order": null,
      "overflow": null,
      "overflow_x": null,
      "overflow_y": null,
      "padding": null,
      "right": null,
      "top": null,
      "visibility": null,
      "width": null
     }
    },
    "8db0301f01a94d28bc76a1e3e675eb4d": {
     "model_module": "@jupyter-widgets/controls",
     "model_module_version": "1.5.0",
     "model_name": "FloatProgressModel",
     "state": {
      "_dom_classes": [],
      "_model_module": "@jupyter-widgets/controls",
      "_model_module_version": "1.5.0",
      "_model_name": "FloatProgressModel",
      "_view_count": null,
      "_view_module": "@jupyter-widgets/controls",
      "_view_module_version": "1.5.0",
      "_view_name": "ProgressView",
      "bar_style": "success",
      "description": "Downloading: 100%",
      "description_tooltip": null,
      "layout": "IPY_MODEL_46fcc097a774471d9d5b0da462d0adee",
      "max": 28,
      "min": 0,
      "orientation": "horizontal",
      "style": "IPY_MODEL_9adbcf2684204b3abdb55f132751aceb",
      "value": 28
     }
    },
    "91c603866e604cde9081ffeb231b96ff": {
     "model_module": "@jupyter-widgets/controls",
     "model_module_version": "1.5.0",
     "model_name": "ProgressStyleModel",
     "state": {
      "_model_module": "@jupyter-widgets/controls",
      "_model_module_version": "1.5.0",
      "_model_name": "ProgressStyleModel",
      "_view_count": null,
      "_view_module": "@jupyter-widgets/base",
      "_view_module_version": "1.2.0",
      "_view_name": "StyleView",
      "bar_color": null,
      "description_width": "initial"
     }
    },
    "9654d2e9944441cb8f47c4cef976a56d": {
     "model_module": "@jupyter-widgets/controls",
     "model_module_version": "1.5.0",
     "model_name": "FloatProgressModel",
     "state": {
      "_dom_classes": [],
      "_model_module": "@jupyter-widgets/controls",
      "_model_module_version": "1.5.0",
      "_model_name": "FloatProgressModel",
      "_view_count": null,
      "_view_module": "@jupyter-widgets/controls",
      "_view_module_version": "1.5.0",
      "_view_name": "ProgressView",
      "bar_style": "success",
      "description": "Downloading: 100%",
      "description_tooltip": null,
      "layout": "IPY_MODEL_caa5ff43ddef4b74bbcc2ce9e36a100b",
      "max": 466062,
      "min": 0,
      "orientation": "horizontal",
      "style": "IPY_MODEL_91c603866e604cde9081ffeb231b96ff",
      "value": 466062
     }
    },
    "9adbcf2684204b3abdb55f132751aceb": {
     "model_module": "@jupyter-widgets/controls",
     "model_module_version": "1.5.0",
     "model_name": "ProgressStyleModel",
     "state": {
      "_model_module": "@jupyter-widgets/controls",
      "_model_module_version": "1.5.0",
      "_model_name": "ProgressStyleModel",
      "_view_count": null,
      "_view_module": "@jupyter-widgets/base",
      "_view_module_version": "1.2.0",
      "_view_name": "StyleView",
      "bar_color": null,
      "description_width": "initial"
     }
    },
    "ad0d79bd1fd847b38e7ce1a67266bb21": {
     "model_module": "@jupyter-widgets/controls",
     "model_module_version": "1.5.0",
     "model_name": "DescriptionStyleModel",
     "state": {
      "_model_module": "@jupyter-widgets/controls",
      "_model_module_version": "1.5.0",
      "_model_name": "DescriptionStyleModel",
      "_view_count": null,
      "_view_module": "@jupyter-widgets/base",
      "_view_module_version": "1.2.0",
      "_view_name": "StyleView",
      "description_width": ""
     }
    },
    "b0f4d5c64f76419fa11802b3fe8d5f07": {
     "model_module": "@jupyter-widgets/base",
     "model_module_version": "1.2.0",
     "model_name": "LayoutModel",
     "state": {
      "_model_module": "@jupyter-widgets/base",
      "_model_module_version": "1.2.0",
      "_model_name": "LayoutModel",
      "_view_count": null,
      "_view_module": "@jupyter-widgets/base",
      "_view_module_version": "1.2.0",
      "_view_name": "LayoutView",
      "align_content": null,
      "align_items": null,
      "align_self": null,
      "border": null,
      "bottom": null,
      "display": null,
      "flex": null,
      "flex_flow": null,
      "grid_area": null,
      "grid_auto_columns": null,
      "grid_auto_flow": null,
      "grid_auto_rows": null,
      "grid_column": null,
      "grid_gap": null,
      "grid_row": null,
      "grid_template_areas": null,
      "grid_template_columns": null,
      "grid_template_rows": null,
      "height": null,
      "justify_content": null,
      "justify_items": null,
      "left": null,
      "margin": null,
      "max_height": null,
      "max_width": null,
      "min_height": null,
      "min_width": null,
      "object_fit": null,
      "object_position": null,
      "order": null,
      "overflow": null,
      "overflow_x": null,
      "overflow_y": null,
      "padding": null,
      "right": null,
      "top": null,
      "visibility": null,
      "width": null
     }
    },
    "b860f7e56c9c43b1b8088b41c18ac974": {
     "model_module": "@jupyter-widgets/base",
     "model_module_version": "1.2.0",
     "model_name": "LayoutModel",
     "state": {
      "_model_module": "@jupyter-widgets/base",
      "_model_module_version": "1.2.0",
      "_model_name": "LayoutModel",
      "_view_count": null,
      "_view_module": "@jupyter-widgets/base",
      "_view_module_version": "1.2.0",
      "_view_name": "LayoutView",
      "align_content": null,
      "align_items": null,
      "align_self": null,
      "border": null,
      "bottom": null,
      "display": null,
      "flex": null,
      "flex_flow": null,
      "grid_area": null,
      "grid_auto_columns": null,
      "grid_auto_flow": null,
      "grid_auto_rows": null,
      "grid_column": null,
      "grid_gap": null,
      "grid_row": null,
      "grid_template_areas": null,
      "grid_template_columns": null,
      "grid_template_rows": null,
      "height": null,
      "justify_content": null,
      "justify_items": null,
      "left": null,
      "margin": null,
      "max_height": null,
      "max_width": null,
      "min_height": null,
      "min_width": null,
      "object_fit": null,
      "object_position": null,
      "order": null,
      "overflow": null,
      "overflow_x": null,
      "overflow_y": null,
      "padding": null,
      "right": null,
      "top": null,
      "visibility": null,
      "width": null
     }
    },
    "caa5ff43ddef4b74bbcc2ce9e36a100b": {
     "model_module": "@jupyter-widgets/base",
     "model_module_version": "1.2.0",
     "model_name": "LayoutModel",
     "state": {
      "_model_module": "@jupyter-widgets/base",
      "_model_module_version": "1.2.0",
      "_model_name": "LayoutModel",
      "_view_count": null,
      "_view_module": "@jupyter-widgets/base",
      "_view_module_version": "1.2.0",
      "_view_name": "LayoutView",
      "align_content": null,
      "align_items": null,
      "align_self": null,
      "border": null,
      "bottom": null,
      "display": null,
      "flex": null,
      "flex_flow": null,
      "grid_area": null,
      "grid_auto_columns": null,
      "grid_auto_flow": null,
      "grid_auto_rows": null,
      "grid_column": null,
      "grid_gap": null,
      "grid_row": null,
      "grid_template_areas": null,
      "grid_template_columns": null,
      "grid_template_rows": null,
      "height": null,
      "justify_content": null,
      "justify_items": null,
      "left": null,
      "margin": null,
      "max_height": null,
      "max_width": null,
      "min_height": null,
      "min_width": null,
      "object_fit": null,
      "object_position": null,
      "order": null,
      "overflow": null,
      "overflow_x": null,
      "overflow_y": null,
      "padding": null,
      "right": null,
      "top": null,
      "visibility": null,
      "width": null
     }
    },
    "d4caac91813642d5b4c099f6e378cc43": {
     "model_module": "@jupyter-widgets/base",
     "model_module_version": "1.2.0",
     "model_name": "LayoutModel",
     "state": {
      "_model_module": "@jupyter-widgets/base",
      "_model_module_version": "1.2.0",
      "_model_name": "LayoutModel",
      "_view_count": null,
      "_view_module": "@jupyter-widgets/base",
      "_view_module_version": "1.2.0",
      "_view_name": "LayoutView",
      "align_content": null,
      "align_items": null,
      "align_self": null,
      "border": null,
      "bottom": null,
      "display": null,
      "flex": null,
      "flex_flow": null,
      "grid_area": null,
      "grid_auto_columns": null,
      "grid_auto_flow": null,
      "grid_auto_rows": null,
      "grid_column": null,
      "grid_gap": null,
      "grid_row": null,
      "grid_template_areas": null,
      "grid_template_columns": null,
      "grid_template_rows": null,
      "height": null,
      "justify_content": null,
      "justify_items": null,
      "left": null,
      "margin": null,
      "max_height": null,
      "max_width": null,
      "min_height": null,
      "min_width": null,
      "object_fit": null,
      "object_position": null,
      "order": null,
      "overflow": null,
      "overflow_x": null,
      "overflow_y": null,
      "padding": null,
      "right": null,
      "top": null,
      "visibility": null,
      "width": null
     }
    },
    "ef8bb469b2bd41e0a0542e13511cb41d": {
     "model_module": "@jupyter-widgets/controls",
     "model_module_version": "1.5.0",
     "model_name": "ProgressStyleModel",
     "state": {
      "_model_module": "@jupyter-widgets/controls",
      "_model_module_version": "1.5.0",
      "_model_name": "ProgressStyleModel",
      "_view_count": null,
      "_view_module": "@jupyter-widgets/base",
      "_view_module_version": "1.2.0",
      "_view_name": "StyleView",
      "bar_color": null,
      "description_width": "initial"
     }
    },
    "f761fda51efb470d86985f2c9a6a615b": {
     "model_module": "@jupyter-widgets/controls",
     "model_module_version": "1.5.0",
     "model_name": "HTMLModel",
     "state": {
      "_dom_classes": [],
      "_model_module": "@jupyter-widgets/controls",
      "_model_module_version": "1.5.0",
      "_model_name": "HTMLModel",
      "_view_count": null,
      "_view_module": "@jupyter-widgets/controls",
      "_view_module_version": "1.5.0",
      "_view_name": "HTMLView",
      "description": "",
      "description_tooltip": null,
      "layout": "IPY_MODEL_b860f7e56c9c43b1b8088b41c18ac974",
      "placeholder": "​",
      "style": "IPY_MODEL_ad0d79bd1fd847b38e7ce1a67266bb21",
      "value": " 466k/466k [00:29&lt;00:00, 15.5kB/s]"
     }
    }
   }
  }
 },
 "nbformat": 4,
 "nbformat_minor": 1
}
