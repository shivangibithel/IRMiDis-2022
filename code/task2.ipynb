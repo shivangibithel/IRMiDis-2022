{
 "cells": [
  {
   "cell_type": "markdown",
   "metadata": {
    "id": "NpnXFnMkfld3"
   },
   "source": [
    "# Installing Transformer and imports"
   ]
  },
  {
   "cell_type": "code",
   "execution_count": null,
   "metadata": {},
   "outputs": [],
   "source": [
    "!export http_proxy=\"http://proxy21.iitd.ac.in:3128\"\n",
    "!export https_proxy=\"http://proxy21.iitd.ac.in:3128\""
   ]
  },
  {
   "cell_type": "code",
   "execution_count": 1,
   "metadata": {
    "id": "h78UkLjkaBbM"
   },
   "outputs": [
    {
     "name": "stderr",
     "output_type": "stream",
     "text": [
      "2022-08-10 18:28:39.830015: I tensorflow/core/util/util.cc:169] oneDNN custom operations are on. You may see slightly different numerical results due to floating-point round-off errors from different computation orders. To turn them off, set the environment variable `TF_ENABLE_ONEDNN_OPTS=0`.\n"
     ]
    }
   ],
   "source": [
    "import os\n",
    "import random\n",
    "import numpy as np\n",
    "import pandas as pd\n",
    "import matplotlib.pyplot as plt\n",
    "import cv2\n",
    "import os\n",
    "import math\n",
    "import tensorflow as tf\n",
    "import seaborn as sns\n",
    "# import tensorflow_datasets as tfds\n",
    "from bs4 import BeautifulSoup\n",
    "from sklearn import metrics as sk_metrics\n",
    "import nltk\n",
    "import re\n",
    "from sklearn.utils import shuffle\n",
    "import tqdm as notebook_tqdm"
   ]
  },
  {
   "cell_type": "markdown",
   "metadata": {
    "id": "4gQPIXoSfsSU"
   },
   "source": [
    "# Data read and split...for some accuracy numbers"
   ]
  },
  {
   "cell_type": "code",
   "execution_count": 2,
   "metadata": {
    "id": "yYQB6za1Wup4"
   },
   "outputs": [],
   "source": [
    "col_list = [\"id\", \"tweet\", \"labels\"]\n",
    "our_data = pd.read_csv(\"/home/shivangib/IRMIDIS-2022/2022/symptoms_train.csv\",usecols=col_list)\n",
    "df_test = pd.read_csv(\"/home/shivangib/IRMIDIS-2022/2022_test/symp_test.csv\")\n",
    "y_map = {\n",
    "    'non-reporting': 0, \n",
    "    'third-party': 1, \n",
    "    'primary': 2,\n",
    "    'secondary':3\n",
    "}\n",
    "\n",
    "our_data['Sentiment_Cat'] = our_data['labels'].map(y_map)"
   ]
  },
  {
   "cell_type": "code",
   "execution_count": 3,
   "metadata": {
    "colab": {
     "base_uri": "https://localhost:8080/",
     "height": 415
    },
    "id": "WDZCx7D5i7b1",
    "outputId": "c8983ab6-08dc-4220-89b2-0782d2f68636"
   },
   "outputs": [
    {
     "data": {
      "text/html": [
       "<div>\n",
       "<style scoped>\n",
       "    .dataframe tbody tr th:only-of-type {\n",
       "        vertical-align: middle;\n",
       "    }\n",
       "\n",
       "    .dataframe tbody tr th {\n",
       "        vertical-align: top;\n",
       "    }\n",
       "\n",
       "    .dataframe thead th {\n",
       "        text-align: right;\n",
       "    }\n",
       "</style>\n",
       "<table border=\"1\" class=\"dataframe\">\n",
       "  <thead>\n",
       "    <tr style=\"text-align: right;\">\n",
       "      <th></th>\n",
       "      <th>id</th>\n",
       "      <th>tweet</th>\n",
       "      <th>labels</th>\n",
       "      <th>Sentiment_Cat</th>\n",
       "    </tr>\n",
       "  </thead>\n",
       "  <tbody>\n",
       "    <tr>\n",
       "      <th>0</th>\n",
       "      <td>1322367936405921794</td>\n",
       "      <td>uh oh the coughs have started covid is taking ...</td>\n",
       "      <td>non-reporting</td>\n",
       "      <td>0</td>\n",
       "    </tr>\n",
       "    <tr>\n",
       "      <th>1</th>\n",
       "      <td>1262153405553946624</td>\n",
       "      <td>Loss of smell, confusion, strokes: Does Covid-...</td>\n",
       "      <td>non-reporting</td>\n",
       "      <td>0</td>\n",
       "    </tr>\n",
       "    <tr>\n",
       "      <th>2</th>\n",
       "      <td>1324014644931878912</td>\n",
       "      <td>\"AI is being used to distinguish between asymp...</td>\n",
       "      <td>non-reporting</td>\n",
       "      <td>0</td>\n",
       "    </tr>\n",
       "    <tr>\n",
       "      <th>3</th>\n",
       "      <td>1313660639097823232</td>\n",
       "      <td>i was v ill for the last couple of days (high ...</td>\n",
       "      <td>non-reporting</td>\n",
       "      <td>0</td>\n",
       "    </tr>\n",
       "    <tr>\n",
       "      <th>4</th>\n",
       "      <td>1239223445306695680</td>\n",
       "      <td>Played warzone yesterday with a dude who caugh...</td>\n",
       "      <td>third-party</td>\n",
       "      <td>1</td>\n",
       "    </tr>\n",
       "    <tr>\n",
       "      <th>...</th>\n",
       "      <td>...</td>\n",
       "      <td>...</td>\n",
       "      <td>...</td>\n",
       "      <td>...</td>\n",
       "    </tr>\n",
       "    <tr>\n",
       "      <th>1569</th>\n",
       "      <td>1247792485239156738</td>\n",
       "      <td>@CCriadoPerez Totally. Murphy’s nose was runni...</td>\n",
       "      <td>third-party</td>\n",
       "      <td>1</td>\n",
       "    </tr>\n",
       "    <tr>\n",
       "      <th>1570</th>\n",
       "      <td>1295395700650528775</td>\n",
       "      <td>@kamera26 @Nicholaspkirby I just tested negati...</td>\n",
       "      <td>primary</td>\n",
       "      <td>2</td>\n",
       "    </tr>\n",
       "    <tr>\n",
       "      <th>1571</th>\n",
       "      <td>1241381235382984707</td>\n",
       "      <td>Lmao I have a cold or smth  And every time I c...</td>\n",
       "      <td>primary</td>\n",
       "      <td>2</td>\n",
       "    </tr>\n",
       "    <tr>\n",
       "      <th>1572</th>\n",
       "      <td>1236525788360474629</td>\n",
       "      <td>fuck the corona virus, all my homies got biebe...</td>\n",
       "      <td>secondary</td>\n",
       "      <td>3</td>\n",
       "    </tr>\n",
       "    <tr>\n",
       "      <th>1573</th>\n",
       "      <td>1286704486027792384</td>\n",
       "      <td>@115tpryan @daffyb63 @LaraCrabb My 67 year old...</td>\n",
       "      <td>secondary</td>\n",
       "      <td>3</td>\n",
       "    </tr>\n",
       "  </tbody>\n",
       "</table>\n",
       "<p>1574 rows × 4 columns</p>\n",
       "</div>"
      ],
      "text/plain": [
       "                       id                                              tweet  \\\n",
       "0     1322367936405921794  uh oh the coughs have started covid is taking ...   \n",
       "1     1262153405553946624  Loss of smell, confusion, strokes: Does Covid-...   \n",
       "2     1324014644931878912  \"AI is being used to distinguish between asymp...   \n",
       "3     1313660639097823232  i was v ill for the last couple of days (high ...   \n",
       "4     1239223445306695680  Played warzone yesterday with a dude who caugh...   \n",
       "...                   ...                                                ...   \n",
       "1569  1247792485239156738  @CCriadoPerez Totally. Murphy’s nose was runni...   \n",
       "1570  1295395700650528775  @kamera26 @Nicholaspkirby I just tested negati...   \n",
       "1571  1241381235382984707  Lmao I have a cold or smth  And every time I c...   \n",
       "1572  1236525788360474629  fuck the corona virus, all my homies got biebe...   \n",
       "1573  1286704486027792384  @115tpryan @daffyb63 @LaraCrabb My 67 year old...   \n",
       "\n",
       "             labels  Sentiment_Cat  \n",
       "0     non-reporting              0  \n",
       "1     non-reporting              0  \n",
       "2     non-reporting              0  \n",
       "3     non-reporting              0  \n",
       "4       third-party              1  \n",
       "...             ...            ...  \n",
       "1569    third-party              1  \n",
       "1570        primary              2  \n",
       "1571        primary              2  \n",
       "1572      secondary              3  \n",
       "1573      secondary              3  \n",
       "\n",
       "[1574 rows x 4 columns]"
      ]
     },
     "execution_count": 3,
     "metadata": {},
     "output_type": "execute_result"
    }
   ],
   "source": [
    "our_data"
   ]
  },
  {
   "cell_type": "code",
   "execution_count": 4,
   "metadata": {
    "colab": {
     "base_uri": "https://localhost:8080/",
     "height": 415
    },
    "id": "2XQVp8-Z-3Bn",
    "outputId": "97b19637-f9e0-4519-c49f-927243d56623"
   },
   "outputs": [
    {
     "data": {
      "text/html": [
       "<div>\n",
       "<style scoped>\n",
       "    .dataframe tbody tr th:only-of-type {\n",
       "        vertical-align: middle;\n",
       "    }\n",
       "\n",
       "    .dataframe tbody tr th {\n",
       "        vertical-align: top;\n",
       "    }\n",
       "\n",
       "    .dataframe thead th {\n",
       "        text-align: right;\n",
       "    }\n",
       "</style>\n",
       "<table border=\"1\" class=\"dataframe\">\n",
       "  <thead>\n",
       "    <tr style=\"text-align: right;\">\n",
       "      <th></th>\n",
       "      <th>id</th>\n",
       "      <th>tweet</th>\n",
       "    </tr>\n",
       "  </thead>\n",
       "  <tbody>\n",
       "    <tr>\n",
       "      <th>0</th>\n",
       "      <td>1242353332817137664t</td>\n",
       "      <td>If you think you have been exposed to COVID-19...</td>\n",
       "    </tr>\n",
       "    <tr>\n",
       "      <th>1</th>\n",
       "      <td>1244712715827982339t</td>\n",
       "      <td>@timbovisser @BBCJohnBeattie Yes, myself, wife...</td>\n",
       "    </tr>\n",
       "    <tr>\n",
       "      <th>2</th>\n",
       "      <td>1314693013810089984t</td>\n",
       "      <td>Lots of people I know having positive covid te...</td>\n",
       "    </tr>\n",
       "    <tr>\n",
       "      <th>3</th>\n",
       "      <td>1307860995692527616t</td>\n",
       "      <td>@lizzyp144 @TomAThakkar Okay but doesn’t COVID...</td>\n",
       "    </tr>\n",
       "    <tr>\n",
       "      <th>4</th>\n",
       "      <td>1277375421164613632t</td>\n",
       "      <td>We should have people w covid cough on white b...</td>\n",
       "    </tr>\n",
       "    <tr>\n",
       "      <th>...</th>\n",
       "      <td>...</td>\n",
       "      <td>...</td>\n",
       "    </tr>\n",
       "    <tr>\n",
       "      <th>395</th>\n",
       "      <td>1255420681581404163t</td>\n",
       "      <td>#bbcgms People who don't have COVID-19 cough s...</td>\n",
       "    </tr>\n",
       "    <tr>\n",
       "      <th>396</th>\n",
       "      <td>1331420575265394688t</td>\n",
       "      <td>Fatigue, shortness of breath, muscle aches, he...</td>\n",
       "    </tr>\n",
       "    <tr>\n",
       "      <th>397</th>\n",
       "      <td>1272691373645467653t</td>\n",
       "      <td>I woke up today from my nap and my throat was ...</td>\n",
       "    </tr>\n",
       "    <tr>\n",
       "      <th>398</th>\n",
       "      <td>1242065925337018369t</td>\n",
       "      <td>#coronavirusindia It's just beginning, isolati...</td>\n",
       "    </tr>\n",
       "    <tr>\n",
       "      <th>399</th>\n",
       "      <td>1314084455741632512t</td>\n",
       "      <td>@WWomenL @TheyWereStolen You beat me to it, co...</td>\n",
       "    </tr>\n",
       "  </tbody>\n",
       "</table>\n",
       "<p>400 rows × 2 columns</p>\n",
       "</div>"
      ],
      "text/plain": [
       "                       id                                              tweet\n",
       "0    1242353332817137664t  If you think you have been exposed to COVID-19...\n",
       "1    1244712715827982339t  @timbovisser @BBCJohnBeattie Yes, myself, wife...\n",
       "2    1314693013810089984t  Lots of people I know having positive covid te...\n",
       "3    1307860995692527616t  @lizzyp144 @TomAThakkar Okay but doesn’t COVID...\n",
       "4    1277375421164613632t  We should have people w covid cough on white b...\n",
       "..                    ...                                                ...\n",
       "395  1255420681581404163t  #bbcgms People who don't have COVID-19 cough s...\n",
       "396  1331420575265394688t  Fatigue, shortness of breath, muscle aches, he...\n",
       "397  1272691373645467653t  I woke up today from my nap and my throat was ...\n",
       "398  1242065925337018369t  #coronavirusindia It's just beginning, isolati...\n",
       "399  1314084455741632512t  @WWomenL @TheyWereStolen You beat me to it, co...\n",
       "\n",
       "[400 rows x 2 columns]"
      ]
     },
     "execution_count": 4,
     "metadata": {},
     "output_type": "execute_result"
    }
   ],
   "source": [
    "df_test"
   ]
  },
  {
   "cell_type": "markdown",
   "metadata": {
    "id": "q4oExSPG-alJ"
   },
   "source": [
    "Uncomment if want testing results"
   ]
  },
  {
   "cell_type": "code",
   "execution_count": 5,
   "metadata": {
    "colab": {
     "base_uri": "https://localhost:8080/"
    },
    "id": "xcT7GhhQkAib",
    "outputId": "dba114b0-773c-45c3-c2c1-f0f6c7144c1a"
   },
   "outputs": [
    {
     "name": "stdout",
     "output_type": "stream",
     "text": [
      "(1416, 4)\n",
      "(158, 4)\n",
      "(79, 4)\n",
      "(79, 4)\n"
     ]
    }
   ],
   "source": [
    "from sklearn.model_selection import StratifiedShuffleSplit\n",
    "df = our_data\n",
    "split = StratifiedShuffleSplit(n_splits=1, test_size=0.1, random_state=42)\n",
    "for train_index, test_valid_index in split.split(df, df.Sentiment_Cat):\n",
    "    train_set = df.iloc[train_index]\n",
    "    test_valid_set = df.iloc[test_valid_index]\n",
    "\n",
    "split2 = StratifiedShuffleSplit(n_splits=1, test_size=0.5, random_state=42)\n",
    "for test_index, valid_index in split2.split(test_valid_set, test_valid_set.Sentiment_Cat):\n",
    "    test_set = test_valid_set.iloc[test_index]\n",
    "    valid_set = test_valid_set.iloc[valid_index]\n",
    "\n",
    "print(train_set.shape)\n",
    "print(test_valid_set.shape)\n",
    "print(test_set.shape)\n",
    "print(valid_set.shape)\n",
    "\n",
    "df_train = train_set\n",
    "df_valid = test_valid_set\n",
    "# df_test = test_set\n",
    "# df_valid = valid_set"
   ]
  },
  {
   "cell_type": "code",
   "execution_count": 6,
   "metadata": {
    "id": "pklk6KusbGf9"
   },
   "outputs": [
    {
     "name": "stdout",
     "output_type": "stream",
     "text": [
      "<class 'pandas.core.frame.DataFrame'>\n",
      "Int64Index: 1416 entries, 853 to 1310\n",
      "Data columns (total 4 columns):\n",
      " #   Column         Non-Null Count  Dtype \n",
      "---  ------         --------------  ----- \n",
      " 0   id             1416 non-null   int64 \n",
      " 1   tweet          1416 non-null   object\n",
      " 2   labels         1416 non-null   object\n",
      " 3   Sentiment_Cat  1416 non-null   int64 \n",
      "dtypes: int64(2), object(2)\n",
      "memory usage: 55.3+ KB\n"
     ]
    }
   ],
   "source": [
    "df_train.info()"
   ]
  },
  {
   "cell_type": "code",
   "execution_count": 7,
   "metadata": {
    "id": "BI96posMLkQ7"
   },
   "outputs": [
    {
     "data": {
      "text/plain": [
       "0    732\n",
       "2    393\n",
       "1    177\n",
       "3    114\n",
       "Name: Sentiment_Cat, dtype: int64"
      ]
     },
     "execution_count": 7,
     "metadata": {},
     "output_type": "execute_result"
    }
   ],
   "source": [
    "df_train.Sentiment_Cat.value_counts()"
   ]
  },
  {
   "cell_type": "code",
   "execution_count": 9,
   "metadata": {
    "id": "hxH0PYoLL0rF"
   },
   "outputs": [],
   "source": [
    "# df_test.Sentiment_Cat.value_counts()"
   ]
  },
  {
   "cell_type": "code",
   "execution_count": 10,
   "metadata": {
    "id": "xhF9mMVKbnBN"
   },
   "outputs": [
    {
     "data": {
      "text/html": [
       "<div>\n",
       "<style scoped>\n",
       "    .dataframe tbody tr th:only-of-type {\n",
       "        vertical-align: middle;\n",
       "    }\n",
       "\n",
       "    .dataframe tbody tr th {\n",
       "        vertical-align: top;\n",
       "    }\n",
       "\n",
       "    .dataframe thead th {\n",
       "        text-align: right;\n",
       "    }\n",
       "</style>\n",
       "<table border=\"1\" class=\"dataframe\">\n",
       "  <thead>\n",
       "    <tr style=\"text-align: right;\">\n",
       "      <th></th>\n",
       "      <th>id</th>\n",
       "      <th>tweet</th>\n",
       "      <th>labels</th>\n",
       "      <th>Sentiment_Cat</th>\n",
       "    </tr>\n",
       "  </thead>\n",
       "  <tbody>\n",
       "    <tr>\n",
       "      <th>853</th>\n",
       "      <td>1297524815125819392</td>\n",
       "      <td>my grandpa had a couple seizures yesterday and...</td>\n",
       "      <td>secondary</td>\n",
       "      <td>3</td>\n",
       "    </tr>\n",
       "    <tr>\n",
       "      <th>1290</th>\n",
       "      <td>1257891188637663232</td>\n",
       "      <td>@MumbaiPolice My family is in Chembur Camp Nea...</td>\n",
       "      <td>secondary</td>\n",
       "      <td>3</td>\n",
       "    </tr>\n",
       "    <tr>\n",
       "      <th>40</th>\n",
       "      <td>1249770473447206915</td>\n",
       "      <td>passed jeremy corbyn in the street today. i as...</td>\n",
       "      <td>third-party</td>\n",
       "      <td>1</td>\n",
       "    </tr>\n",
       "    <tr>\n",
       "      <th>877</th>\n",
       "      <td>1332394461150765065</td>\n",
       "      <td>@Mythsas I deal with social anxiety amongst ot...</td>\n",
       "      <td>primary</td>\n",
       "      <td>2</td>\n",
       "    </tr>\n",
       "    <tr>\n",
       "      <th>1475</th>\n",
       "      <td>1246793961366315009</td>\n",
       "      <td>The W.H.O is advising people to follow five si...</td>\n",
       "      <td>non-reporting</td>\n",
       "      <td>0</td>\n",
       "    </tr>\n",
       "  </tbody>\n",
       "</table>\n",
       "</div>"
      ],
      "text/plain": [
       "                       id                                              tweet  \\\n",
       "853   1297524815125819392  my grandpa had a couple seizures yesterday and...   \n",
       "1290  1257891188637663232  @MumbaiPolice My family is in Chembur Camp Nea...   \n",
       "40    1249770473447206915  passed jeremy corbyn in the street today. i as...   \n",
       "877   1332394461150765065  @Mythsas I deal with social anxiety amongst ot...   \n",
       "1475  1246793961366315009  The W.H.O is advising people to follow five si...   \n",
       "\n",
       "             labels  Sentiment_Cat  \n",
       "853       secondary              3  \n",
       "1290      secondary              3  \n",
       "40      third-party              1  \n",
       "877         primary              2  \n",
       "1475  non-reporting              0  "
      ]
     },
     "execution_count": 10,
     "metadata": {},
     "output_type": "execute_result"
    }
   ],
   "source": [
    "df_train.head()"
   ]
  },
  {
   "cell_type": "code",
   "execution_count": 11,
   "metadata": {
    "colab": {
     "base_uri": "https://localhost:8080/",
     "height": 68
    },
    "id": "1UXvi9kQve9y",
    "outputId": "35d637d3-f476-4704-af9b-4d77aacb1aaa"
   },
   "outputs": [
    {
     "data": {
      "text/plain": [
       "'my grandpa had a couple seizures yesterday and ended up in the hospital. but due to covid, no one could visit. he thankfully got to come home, but knowing that he woke up confused and not knowing what was going on with no one there for him breaks my heart.'"
      ]
     },
     "execution_count": 11,
     "metadata": {},
     "output_type": "execute_result"
    }
   ],
   "source": [
    "df_train['tweet'].iloc[0]"
   ]
  },
  {
   "cell_type": "code",
   "execution_count": 12,
   "metadata": {},
   "outputs": [
    {
     "data": {
      "text/html": [
       "<div>\n",
       "<style scoped>\n",
       "    .dataframe tbody tr th:only-of-type {\n",
       "        vertical-align: middle;\n",
       "    }\n",
       "\n",
       "    .dataframe tbody tr th {\n",
       "        vertical-align: top;\n",
       "    }\n",
       "\n",
       "    .dataframe thead th {\n",
       "        text-align: right;\n",
       "    }\n",
       "</style>\n",
       "<table border=\"1\" class=\"dataframe\">\n",
       "  <thead>\n",
       "    <tr style=\"text-align: right;\">\n",
       "      <th></th>\n",
       "      <th>id</th>\n",
       "      <th>tweet</th>\n",
       "    </tr>\n",
       "  </thead>\n",
       "  <tbody>\n",
       "    <tr>\n",
       "      <th>0</th>\n",
       "      <td>1242353332817137664t</td>\n",
       "      <td>If you think you have been exposed to COVID-19...</td>\n",
       "    </tr>\n",
       "    <tr>\n",
       "      <th>1</th>\n",
       "      <td>1244712715827982339t</td>\n",
       "      <td>@timbovisser @BBCJohnBeattie Yes, myself, wife...</td>\n",
       "    </tr>\n",
       "    <tr>\n",
       "      <th>2</th>\n",
       "      <td>1314693013810089984t</td>\n",
       "      <td>Lots of people I know having positive covid te...</td>\n",
       "    </tr>\n",
       "    <tr>\n",
       "      <th>3</th>\n",
       "      <td>1307860995692527616t</td>\n",
       "      <td>@lizzyp144 @TomAThakkar Okay but doesn’t COVID...</td>\n",
       "    </tr>\n",
       "    <tr>\n",
       "      <th>4</th>\n",
       "      <td>1277375421164613632t</td>\n",
       "      <td>We should have people w covid cough on white b...</td>\n",
       "    </tr>\n",
       "  </tbody>\n",
       "</table>\n",
       "</div>"
      ],
      "text/plain": [
       "                     id                                              tweet\n",
       "0  1242353332817137664t  If you think you have been exposed to COVID-19...\n",
       "1  1244712715827982339t  @timbovisser @BBCJohnBeattie Yes, myself, wife...\n",
       "2  1314693013810089984t  Lots of people I know having positive covid te...\n",
       "3  1307860995692527616t  @lizzyp144 @TomAThakkar Okay but doesn’t COVID...\n",
       "4  1277375421164613632t  We should have people w covid cough on white b..."
      ]
     },
     "execution_count": 12,
     "metadata": {},
     "output_type": "execute_result"
    }
   ],
   "source": [
    "df_test.head()"
   ]
  },
  {
   "cell_type": "code",
   "execution_count": null,
   "metadata": {
    "id": "LbVsoiYsbuYF"
   },
   "outputs": [],
   "source": [
    "# y_map = {\n",
    "#     'ProVax': 0, \n",
    "#     'AntiVax': 1, \n",
    "#     'Neutral': 2\n",
    "# }\n",
    "\n",
    "# df_train['Sentiment_Cat'] = df_train['label'].map(y_map)\n",
    "# df_test['Sentiment_Cat'] = df_test['label'].map(y_map)"
   ]
  },
  {
   "cell_type": "markdown",
   "metadata": {
    "id": "2DzTRCQFf21N"
   },
   "source": [
    "# Pre-processing"
   ]
  },
  {
   "cell_type": "code",
   "execution_count": 13,
   "metadata": {
    "colab": {
     "base_uri": "https://localhost:8080/"
    },
    "id": "Vwhr9am41KrZ",
    "outputId": "83b8e0a3-82aa-4349-97fc-26c77b6f0d3a"
   },
   "outputs": [],
   "source": [
    "import sys\n",
    "import re\n",
    "# !pip install emoji --quiet\n",
    "import emoji\n",
    "# !pip install contractions --quiet\n",
    "import contractions\n",
    "import nltk\n",
    "from nltk.corpus import stopwords\n",
    "# nltk.download('stopwords')\n",
    "import unicodedata"
   ]
  },
  {
   "cell_type": "code",
   "execution_count": 14,
   "metadata": {
    "id": "n9qKs19_0pZ9"
   },
   "outputs": [
    {
     "name": "stderr",
     "output_type": "stream",
     "text": [
      "/tmp/ipykernel_59608/2139545371.py:14: SettingWithCopyWarning: \n",
      "A value is trying to be set on a copy of a slice from a DataFrame.\n",
      "Try using .loc[row_indexer,col_indexer] = value instead\n",
      "\n",
      "See the caveats in the documentation: https://pandas.pydata.org/pandas-docs/stable/user_guide/indexing.html#returning-a-view-versus-a-copy\n",
      "  df_train['tweet_cleaned'] = df_train['tweet'].apply(cleaning)\n",
      "/tmp/ipykernel_59608/2139545371.py:16: SettingWithCopyWarning: \n",
      "A value is trying to be set on a copy of a slice from a DataFrame.\n",
      "Try using .loc[row_indexer,col_indexer] = value instead\n",
      "\n",
      "See the caveats in the documentation: https://pandas.pydata.org/pandas-docs/stable/user_guide/indexing.html#returning-a-view-versus-a-copy\n",
      "  df_valid['tweet_cleaned'] = df_valid['tweet'].apply(cleaning)\n"
     ]
    },
    {
     "data": {
      "text/plain": [
       "'my grandpa had a couple seizures yesterday and ended up in the hospital  but due to covid  no one could visit  he thankfully got to come home  but knowing that he woke up confused and not knowing what was going on with no one there for him breaks my heart '"
      ]
     },
     "execution_count": 14,
     "metadata": {},
     "output_type": "execute_result"
    }
   ],
   "source": [
    "def cleaning(text):\n",
    "  text= text.lower()\n",
    "  text= emoji.demojize(text)\n",
    "  text=contractions.fix(text)\n",
    "  text=text.strip()\n",
    "  text=text.replace('[^\\w\\s]','')\n",
    "  text=re.sub(r'http\\S+', '', text)\n",
    "  REPLACE_BY_SPACE_RE = re.compile('[/(){}\\[\\]\\|@,;]')\n",
    "  BAD_SYMBOLS_RE = re.compile('[^0-9a-z +]')\n",
    "  text = REPLACE_BY_SPACE_RE.sub(' ' , text)\n",
    "  text = BAD_SYMBOLS_RE.sub(' ',text)\n",
    "  \n",
    "  return text\n",
    "df_train['tweet_cleaned'] = df_train['tweet'].apply(cleaning)\n",
    "df_test['tweet_cleaned'] = df_test['tweet'].apply(cleaning)\n",
    "df_valid['tweet_cleaned'] = df_valid['tweet'].apply(cleaning)\n",
    "df_train['tweet_cleaned'].iloc[0]"
   ]
  },
  {
   "cell_type": "code",
   "execution_count": 15,
   "metadata": {
    "id": "UzhyEzc2dIsv"
   },
   "outputs": [],
   "source": [
    "x_train, y_train = df_train['tweet_cleaned'].values, np.array(df_train['Sentiment_Cat'], dtype=np.int64)\n",
    "# x_test, y_test = df_test['tweet_cleaned'].values, np.array(df_test['Sentiment_Cat'], dtype=np.int64)\n",
    "x_valid, y_valid = df_valid['tweet_cleaned'].values, np.array(df_valid['Sentiment_Cat'], dtype=np.int64)\n",
    "\n",
    "\n",
    "x_test = df_test['tweet_cleaned'].values"
   ]
  },
  {
   "cell_type": "markdown",
   "metadata": {
    "id": "PT_1dcod_bHJ"
   },
   "source": [
    "# Data Exploration"
   ]
  },
  {
   "cell_type": "code",
   "execution_count": 16,
   "metadata": {
    "id": "BtfsgOX5YoAg"
   },
   "outputs": [],
   "source": [
    "data = df_train\n",
    "non_reporting_data = data[data['Sentiment_Cat'] == 0]\n",
    "third_party_data = data[data['Sentiment_Cat'] == 1]\n",
    "primary_data = data[data['Sentiment_Cat'] == 2]\n",
    "secondary_data = data[data['Sentiment_Cat'] == 3]\n",
    "\n",
    "#     'non-reporting': 0, \n",
    "#     'third-party': 1, \n",
    "#     'primary': 2,\n",
    "#     'secondary':3"
   ]
  },
  {
   "cell_type": "code",
   "execution_count": 17,
   "metadata": {
    "colab": {
     "base_uri": "https://localhost:8080/"
    },
    "id": "auW5p-QfYaQc",
    "outputId": "1d6509d3-fd2b-45b6-ba0c-9e3f46053dc5"
   },
   "outputs": [
    {
     "name": "stdout",
     "output_type": "stream",
     "text": [
      "95\n",
      "61\n",
      "69\n",
      "76\n",
      "732 177 393 114\n"
     ]
    }
   ],
   "source": [
    "# df = Antivax_data\n",
    "a=[]\n",
    "for i in range(len(non_reporting_data)):\n",
    "  a.append(len(non_reporting_data['tweet_cleaned'].iloc[i].split()))\n",
    "print(max(a))\n",
    "# df = Provax_data\n",
    "b=[]\n",
    "for i in range(len(third_party_data)):\n",
    "  b.append(len(third_party_data['tweet_cleaned'].iloc[i].split()))\n",
    "print(max(b))\n",
    "# df = Neutral_data\n",
    "c=[]\n",
    "for i in range(len(primary_data)):\n",
    "  c.append(len(primary_data['tweet_cleaned'].iloc[i].split()))\n",
    "print(max(c))\n",
    "d=[]\n",
    "for i in range(len(secondary_data)):\n",
    "  d.append(len(secondary_data['tweet_cleaned'].iloc[i].split()))\n",
    "print(max(d))\n",
    "print(len(non_reporting_data), len(third_party_data), len(primary_data), len(secondary_data))"
   ]
  },
  {
   "cell_type": "code",
   "execution_count": 18,
   "metadata": {
    "colab": {
     "base_uri": "https://localhost:8080/",
     "height": 851
    },
    "id": "EjmubgzJYTWN",
    "outputId": "4cd36a3c-96ba-4287-da95-20cdd8fd6aa1"
   },
   "outputs": [
    {
     "data": {
      "image/png": "[encoded data removed]",
      "text/plain": [
       "<Figure size 432x288 with 1 Axes>"
      ]
     },
     "metadata": {
      "needs_background": "light"
     },
     "output_type": "display_data"
    },
    {
     "data": {
      "image/png": "[encoded data removed]",
      "text/plain": [
       "<Figure size 432x288 with 1 Axes>"
      ]
     },
     "metadata": {
      "needs_background": "light"
     },
     "output_type": "display_data"
    },
    {
     "data": {
      "image/png": "[encoded data removed]",
      "text/plain": [
       "<Figure size 432x288 with 1 Axes>"
      ]
     },
     "metadata": {
      "needs_background": "light"
     },
     "output_type": "display_data"
    },
    {
     "data": {
      "image/png": "[encoded data removed]",
      "text/plain": [
       "<Figure size 432x288 with 1 Axes>"
      ]
     },
     "metadata": {
      "needs_background": "light"
     },
     "output_type": "display_data"
    }
   ],
   "source": [
    "import numpy as np\n",
    "import matplotlib.pyplot as plt\n",
    "from numpy import *\n",
    "plt.hist(a,bins= 80, label = \"non-reporting\")\n",
    "plt.legend()\n",
    "plt.xlabel('Length')\n",
    "plt.ylabel('Frequecy')\n",
    "plt.title('Length Histogram')\n",
    "plt.show()\n",
    "plt.hist(b,bins= 60, label = \"third-party\")\n",
    "plt.legend()\n",
    "plt.xlabel('Length')\n",
    "plt.ylabel('Frequecy')\n",
    "plt.title('Length Histogram')\n",
    "plt.show()\n",
    "plt.hist(c, bins= 60, label = \"primary\")\n",
    "plt.legend()\n",
    "plt.xlabel('Length')\n",
    "plt.ylabel('Frequecy')\n",
    "plt.title('Length Histogram')\n",
    "plt.show()\n",
    "plt.hist(d, bins= 60, label = \"secondary\")\n",
    "plt.legend()\n",
    "plt.xlabel('Length')\n",
    "plt.ylabel('Frequecy')\n",
    "plt.title('Length Histogram')\n",
    "plt.show()"
   ]
  },
  {
   "cell_type": "markdown",
   "metadata": {
    "id": "WBm7fSLdjNsK"
   },
   "source": [
    "# BERT"
   ]
  },
  {
   "cell_type": "code",
   "execution_count": 19,
   "metadata": {
    "id": "UfVEmb5Idiv5"
   },
   "outputs": [
    {
     "name": "stderr",
     "output_type": "stream",
     "text": [
      "/home/shivangib/miniconda3/envs/irmidis/lib/python3.8/site-packages/tqdm/auto.py:22: TqdmWarning: IProgress not found. Please update jupyter and ipywidgets. See https://ipywidgets.readthedocs.io/en/stable/user_install.html\n",
      "  from .autonotebook import tqdm as notebook_tqdm\n"
     ]
    }
   ],
   "source": [
    "from tokenizers import BertWordPieceTokenizer\n",
    "import transformers\n",
    "from transformers import RobertaTokenizer, TFRobertaModel\n"
   ]
  },
  {
   "cell_type": "code",
   "execution_count": 20,
   "metadata": {
    "colab": {
     "base_uri": "https://localhost:8080/",
     "height": 200,
     "referenced_widgets": [
      "5360080619a54288b1c944bdeff63ed8",
      "12cba3acb72c4241932490311a3db9b7",
      "545f8142e13a416797d7bc4447eec9b3",
      "240e3928c7b0429b840bb295344096d8",
      "ef8bb469b2bd41e0a0542e13511cb41d",
      "05594b7d82d74adcbd29779e61456fdc",
      "047433edb2294ed6a5d09485461dafaf",
      "8199b5e19de740aaaf0914965592da67",
      "5b36de7b57514e6d856b0c28e9fdda89",
      "39f380c5ce5d4b28b7ee38f8443de392",
      "9654d2e9944441cb8f47c4cef976a56d",
      "f761fda51efb470d86985f2c9a6a615b",
      "91c603866e604cde9081ffeb231b96ff",
      "caa5ff43ddef4b74bbcc2ce9e36a100b",
      "ad0d79bd1fd847b38e7ce1a67266bb21",
      "b860f7e56c9c43b1b8088b41c18ac974",
      "7d4f84f81fc543e19708199e8f0635c5",
      "b0f4d5c64f76419fa11802b3fe8d5f07",
      "8db0301f01a94d28bc76a1e3e675eb4d",
      "6566e64742254d31881c08655ff5eb14",
      "9adbcf2684204b3abdb55f132751aceb",
      "46fcc097a774471d9d5b0da462d0adee",
      "331ba15225904739948ee6b85eab1681",
      "d4caac91813642d5b4c099f6e378cc43"
     ]
    },
    "id": "8o7uh0Gbdlmf",
    "outputId": "cb04027b-5e8a-494a-bc0a-b2cc7297e366"
   },
   "outputs": [
    {
     "data": {
      "text/plain": [
       "Tokenizer(vocabulary_size=30522, model=BertWordPiece, unk_token=[UNK], sep_token=[SEP], cls_token=[CLS], pad_token=[PAD], mask_token=[MASK], clean_text=True, handle_chinese_chars=True, strip_accents=None, lowercase=True, wordpieces_prefix=##)"
      ]
     },
     "execution_count": 20,
     "metadata": {},
     "output_type": "execute_result"
    }
   ],
   "source": [
    "# First load the real tokenizer\n",
    "tokenizer = transformers.BertTokenizerFast.from_pretrained('bert-base-uncased', lower=True)\n",
    "\n",
    "# Save the loaded tokenizer locally\n",
    "# tokenizer.save_pretrained('.')\n",
    "\n",
    "# tokenizer = transformers.BertTokenizerFast.from_pretrained('.')\n",
    "# tokenizer = RobertaTokenizer.from_pretrained('roberta-base')\n",
    "# Reload it with the huggingface tokenizers library\n",
    "fast_tokenizer = BertWordPieceTokenizer('vocab.txt', lowercase=True)\n",
    "fast_tokenizer"
   ]
  },
  {
   "cell_type": "code",
   "execution_count": 21,
   "metadata": {
    "id": "Vvy3OyJddodD"
   },
   "outputs": [],
   "source": [
    "def fast_encode(texts, tokenizer, chunk_size=256, maxlen=200):\n",
    "    tokenizer.enable_truncation(max_length=maxlen)\n",
    "    tokenizer.enable_padding(length=maxlen)\n",
    "    all_ids = []\n",
    "    \n",
    "    for i in range(0, len(texts), chunk_size):\n",
    "        text_chunk = texts[i:i+chunk_size].tolist()\n",
    "        encs = tokenizer.encode_batch(text_chunk)\n",
    "        all_ids.extend([enc.ids for enc in encs])\n",
    "    \n",
    "    return np.array(all_ids)"
   ]
  },
  {
   "cell_type": "code",
   "execution_count": 22,
   "metadata": {
    "id": "Q9LJvgi0d5i-"
   },
   "outputs": [],
   "source": [
    "max_len=60\n",
    "x_train_enc = fast_encode(x_train, fast_tokenizer, maxlen=max_len)\n",
    "x_valid_enc = fast_encode(x_valid, fast_tokenizer, maxlen=max_len)\n",
    "x_test_enc = fast_encode(x_test, fast_tokenizer, maxlen=max_len)"
   ]
  },
  {
   "cell_type": "code",
   "execution_count": 23,
   "metadata": {
    "id": "pcBnfPChd9PO"
   },
   "outputs": [
    {
     "name": "stdout",
     "output_type": "stream",
     "text": [
      "4\n"
     ]
    },
    {
     "name": "stderr",
     "output_type": "stream",
     "text": [
      "2022-08-10 18:31:00.247923: I tensorflow/core/platform/cpu_feature_guard.cc:193] This TensorFlow binary is optimized with oneAPI Deep Neural Network Library (oneDNN) to use the following CPU instructions in performance-critical operations:  AVX2 AVX512F AVX512_VNNI FMA\n",
      "To enable them in other operations, rebuild TensorFlow with the appropriate compiler flags.\n",
      "2022-08-10 18:31:02.328092: I tensorflow/core/common_runtime/gpu/gpu_device.cc:1532] Created device /job:localhost/replica:0/task:0/device:GPU:0 with 30988 MB memory:  -> device: 0, name: Tesla V100-SXM2-32GB, pci bus id: 0000:1a:00.0, compute capability: 7.0\n",
      "2022-08-10 18:31:02.329659: I tensorflow/core/common_runtime/gpu/gpu_device.cc:1532] Created device /job:localhost/replica:0/task:0/device:GPU:1 with 29087 MB memory:  -> device: 1, name: Tesla V100-SXM2-32GB, pci bus id: 0000:1b:00.0, compute capability: 7.0\n",
      "2022-08-10 18:31:02.331020: I tensorflow/core/common_runtime/gpu/gpu_device.cc:1532] Created device /job:localhost/replica:0/task:0/device:GPU:2 with 30988 MB memory:  -> device: 2, name: Tesla V100-SXM2-32GB, pci bus id: 0000:3d:00.0, compute capability: 7.0\n",
      "2022-08-10 18:31:02.332378: I tensorflow/core/common_runtime/gpu/gpu_device.cc:1532] Created device /job:localhost/replica:0/task:0/device:GPU:3 with 30988 MB memory:  -> device: 3, name: Tesla V100-SXM2-32GB, pci bus id: 0000:3e:00.0, compute capability: 7.0\n",
      "All model checkpoint layers were used when initializing TFBertForSequenceClassification.\n",
      "\n",
      "Some layers of TFBertForSequenceClassification were not initialized from the model checkpoint at digitalepidemiologylab/covid-twitter-bert-v2 and are newly initialized: ['classifier']\n",
      "You should probably TRAIN this model on a down-stream task to be able to use it for predictions and inference.\n"
     ]
    }
   ],
   "source": [
    "NUM_CLASSES = df_train['Sentiment_Cat'].nunique()\n",
    "print(NUM_CLASSES)\n",
    "# bert_transformer = transformers.TFDistilBertModel.from_pretrained('distilbert-base-uncased')\n",
    "# bert_transformer = transformers.TFBertForSequenceClassification.from_pretrained('bert-base-uncased', num_labels=NUM_CLASSES)\n",
    "bert_transformer = transformers.TFBertForSequenceClassification.from_pretrained('digitalepidemiologylab/covid-twitter-bert-v2', num_labels=NUM_CLASSES)\n",
    "\n",
    "# bert_transformer = transformers.TFRobertaForSequenceClassification.from_pretrained('vinai/bertweet-covid19-base-uncased', num_labels=NUM_CLASSES)\n",
    "\n",
    "input = tf.keras.layers.Input(shape=(max_len,), dtype=tf.int32)\n",
    "sequence_output = bert_transformer(input)[0]\n",
    "# cls_token = sequence_output[:, 0, :]\n",
    "# output = tf.keras.layers.Dense(NUM_CLASSES, activation='softmax')(cls_token)\n",
    "\n",
    "model = tf.keras.Model(inputs=input, outputs=sequence_output)\n",
    "model.compile(optimizer=tf.keras.optimizers.Adam(1e-5), loss=tf.keras.losses.SparseCategoricalCrossentropy(from_logits=True), metrics=['accuracy'])"
   ]
  },
  {
   "cell_type": "code",
   "execution_count": 24,
   "metadata": {
    "colab": {
     "base_uri": "https://localhost:8080/"
    },
    "id": "0bliWbCjeRLV",
    "outputId": "e29b3d84-d538-461c-91c9-687449e5c906"
   },
   "outputs": [
    {
     "name": "stdout",
     "output_type": "stream",
     "text": [
      "Model: \"model\"\n",
      "_________________________________________________________________\n",
      " Layer (type)                Output Shape              Param #   \n",
      "=================================================================\n",
      " input_1 (InputLayer)        [(None, 60)]              0         \n",
      "                                                                 \n",
      " tf_bert_for_sequence_classi  TFSequenceClassifierOutp  335145988\n",
      " fication (TFBertForSequence  ut(loss=None, logits=(No           \n",
      " Classification)             ne, 4),                             \n",
      "                              hidden_states=None, att            \n",
      "                             entions=None)                       \n",
      "                                                                 \n",
      "=================================================================\n",
      "Total params: 335,145,988\n",
      "Trainable params: 335,145,988\n",
      "Non-trainable params: 0\n",
      "_________________________________________________________________\n"
     ]
    }
   ],
   "source": [
    "model.summary()"
   ]
  },
  {
   "cell_type": "code",
   "execution_count": 25,
   "metadata": {
    "colab": {
     "base_uri": "https://localhost:8080/"
    },
    "id": "WRLoFJv0lTip",
    "outputId": "1e9bf638-7ac0-423b-fd0d-5d1eee9cf9bc"
   },
   "outputs": [
    {
     "name": "stdout",
     "output_type": "stream",
     "text": [
      "Epoch 1/50\n",
      "89/89 [==============================] - 53s 346ms/step - loss: 1.1844 - accuracy: 0.5014 - val_loss: 1.1326 - val_accuracy: 0.5190\n",
      "Epoch 2/50\n",
      "89/89 [==============================] - 25s 284ms/step - loss: 1.0872 - accuracy: 0.5381 - val_loss: 0.9409 - val_accuracy: 0.6835\n",
      "Epoch 3/50\n",
      "89/89 [==============================] - 25s 283ms/step - loss: 0.8322 - accuracy: 0.7076 - val_loss: 0.6389 - val_accuracy: 0.7468\n",
      "Epoch 4/50\n",
      "89/89 [==============================] - 25s 281ms/step - loss: 0.5795 - accuracy: 0.8016 - val_loss: 0.4680 - val_accuracy: 0.8291\n",
      "Epoch 5/50\n",
      "89/89 [==============================] - 24s 272ms/step - loss: 0.4248 - accuracy: 0.8651 - val_loss: 0.4589 - val_accuracy: 0.8291\n",
      "Epoch 6/50\n",
      "89/89 [==============================] - 24s 270ms/step - loss: 0.3203 - accuracy: 0.8990 - val_loss: 0.3939 - val_accuracy: 0.8544\n",
      "Epoch 7/50\n",
      "89/89 [==============================] - 24s 265ms/step - loss: 0.2308 - accuracy: 0.9315 - val_loss: 0.4053 - val_accuracy: 0.8861\n",
      "Epoch 8/50\n",
      "89/89 [==============================] - 24s 264ms/step - loss: 0.1716 - accuracy: 0.9506 - val_loss: 0.4589 - val_accuracy: 0.8481\n",
      "Epoch 9/50\n",
      "89/89 [==============================] - 24s 275ms/step - loss: 0.1132 - accuracy: 0.9725 - val_loss: 0.4538 - val_accuracy: 0.8671\n"
     ]
    }
   ],
   "source": [
    "# call backs\n",
    "early_stop_callback = tf.keras.callbacks.EarlyStopping(\n",
    "    monitor='val_loss', \n",
    "    patience=3, \n",
    "    restore_best_weights=True\n",
    ")\n",
    "\n",
    "history = model.fit(\n",
    "    x_train_enc,\n",
    "    y_train,\n",
    "    batch_size=16,\n",
    "    validation_data=(x_valid_enc, y_valid),\n",
    "    epochs=50,\n",
    "    callbacks=[early_stop_callback])"
   ]
  },
  {
   "cell_type": "markdown",
   "metadata": {
    "id": "sPB9-wqXjSRo"
   },
   "source": [
    "# Prediction "
   ]
  },
  {
   "cell_type": "code",
   "execution_count": 26,
   "metadata": {
    "colab": {
     "base_uri": "https://localhost:8080/"
    },
    "id": "zY9uNgVAe0MP",
    "outputId": "3100ca1f-c0f4-46cc-9567-273895e5f4d9"
   },
   "outputs": [
    {
     "name": "stdout",
     "output_type": "stream",
     "text": [
      "13/13 [==============================] - 6s 169ms/step\n"
     ]
    },
    {
     "data": {
      "text/plain": [
       "array([[ 3.4673688 , -0.6698875 , -1.4941183 , -1.5463929 ],\n",
       "       [-0.7333857 , -0.24591057,  0.309762  ,  1.9172816 ],\n",
       "       [-0.6063697 ,  2.3212547 , -1.6215051 ,  0.5659699 ],\n",
       "       ...,\n",
       "       [ 0.52774984, -2.1582854 ,  4.0110645 , -2.283243  ],\n",
       "       [ 3.4686642 , -0.17985068, -1.6604849 , -1.4901012 ],\n",
       "       [ 2.9450486 ,  0.28529248, -1.7774847 , -0.9358548 ]],\n",
       "      dtype=float32)"
      ]
     },
     "execution_count": 26,
     "metadata": {},
     "output_type": "execute_result"
    }
   ],
   "source": [
    "ypred = model.predict(x_test_enc)\n",
    "ypred\n",
    "# df_test['ypred'] = np.argmax(ypred, axis=1)\n",
    "# df_test['ypred_cat'] = np.where(df_test['ypred']>=0.5, 1, 0)\n",
    "# df_test['ypred_cat'] = np.argmax(ypred, axis=1)\n",
    "# df_test"
   ]
  },
  {
   "cell_type": "code",
   "execution_count": 27,
   "metadata": {
    "colab": {
     "base_uri": "https://localhost:8080/"
    },
    "id": "5ZxKEI6KIt19",
    "outputId": "8c6d0665-4dbd-4525-b689-9ec94fa76472"
   },
   "outputs": [
    {
     "name": "stdout",
     "output_type": "stream",
     "text": [
      "[0 3 1 0 0 2 0 1 0 2 0 0 0 0 0 2 0 0 3 0 0 0 0 2 2 0 0 3 2 0 0 0 3 0 0 2 1\n",
      " 0 0 1 2 1 0 0 0 0 0 0 2 0 2 3 2 0 2 0 0 0 0 0 0 2 0 0 0 1 0 0 3 0 2 0 0 0\n",
      " 0 0 0 3 2 1 2 2 0 0 0 0 2 2 0 0 0 2 0 0 0 0 0 2 0 0 1 1 2 2 1 2 0 0 1 0 0\n",
      " 0 2 0 2 2 0 0 0 1 3 3 2 0 3 2 2 0 0 2 3 1 0 2 2 0 3 0 2 2 0 0 0 2 0 0 1 2\n",
      " 1 0 1 0 0 0 2 3 0 2 2 0 1 2 1 2 0 3 0 0 2 2 0 0 2 0 0 0 0 2 0 0 1 1 2 2 0\n",
      " 0 0 1 2 0 0 0 0 1 0 0 0 2 2 3 2 0 2 1 2 0 0 2 0 1 2 0 0 2 3 2 0 2 2 0 0 0\n",
      " 2 2 0 0 0 0 3 0 2 0 0 0 2 0 2 1 0 2 0 0 0 0 1 2 2 2 2 0 0 0 0 0 0 0 0 2 0\n",
      " 0 0 2 2 2 2 0 2 0 0 0 2 0 2 2 0 0 2 0 0 0 2 0 1 0 0 2 0 0 0 3 0 2 3 0 1 2\n",
      " 0 0 0 2 2 1 0 0 0 0 1 0 3 0 2 3 0 0 2 0 0 2 3 0 0 0 0 0 0 0 1 0 2 0 0 0 3\n",
      " 0 3 0 3 2 2 0 2 0 1 2 2 2 2 0 0 0 0 0 0 0 0 0 1 0 0 2 1 0 0 0 1 1 1 0 2 3\n",
      " 1 0 0 2 0 0 0 0 1 0 0 0 0 2 0 2 3 2 2 0 0 2 2 0 2 0 0 2 0 0]\n"
     ]
    }
   ],
   "source": [
    "print(np.argmax(ypred, axis=1))"
   ]
  },
  {
   "cell_type": "code",
   "execution_count": 28,
   "metadata": {
    "colab": {
     "base_uri": "https://localhost:8080/",
     "height": 703
    },
    "id": "nXW9PMzVGmSF",
    "outputId": "f6d88f4b-8dea-4cbf-d011-9da4a44b188f"
   },
   "outputs": [
    {
     "data": {
      "text/html": [
       "<div>\n",
       "<style scoped>\n",
       "    .dataframe tbody tr th:only-of-type {\n",
       "        vertical-align: middle;\n",
       "    }\n",
       "\n",
       "    .dataframe tbody tr th {\n",
       "        vertical-align: top;\n",
       "    }\n",
       "\n",
       "    .dataframe thead th {\n",
       "        text-align: right;\n",
       "    }\n",
       "</style>\n",
       "<table border=\"1\" class=\"dataframe\">\n",
       "  <thead>\n",
       "    <tr style=\"text-align: right;\">\n",
       "      <th></th>\n",
       "      <th>id</th>\n",
       "      <th>tweet</th>\n",
       "      <th>tweet_cleaned</th>\n",
       "      <th>pred</th>\n",
       "    </tr>\n",
       "  </thead>\n",
       "  <tbody>\n",
       "    <tr>\n",
       "      <th>0</th>\n",
       "      <td>1242353332817137664t</td>\n",
       "      <td>If you think you have been exposed to COVID-19...</td>\n",
       "      <td>if you think you have been exposed to covid 19...</td>\n",
       "      <td>0</td>\n",
       "    </tr>\n",
       "    <tr>\n",
       "      <th>1</th>\n",
       "      <td>1244712715827982339t</td>\n",
       "      <td>@timbovisser @BBCJohnBeattie Yes, myself, wife...</td>\n",
       "      <td>timbovisser  bbcjohnbeattie yes  myself  wife...</td>\n",
       "      <td>3</td>\n",
       "    </tr>\n",
       "    <tr>\n",
       "      <th>2</th>\n",
       "      <td>1314693013810089984t</td>\n",
       "      <td>Lots of people I know having positive covid te...</td>\n",
       "      <td>lots of people i know having positive covid te...</td>\n",
       "      <td>1</td>\n",
       "    </tr>\n",
       "    <tr>\n",
       "      <th>3</th>\n",
       "      <td>1307860995692527616t</td>\n",
       "      <td>@lizzyp144 @TomAThakkar Okay but doesn’t COVID...</td>\n",
       "      <td>lizzyp144  tomathakkar okay but does not covi...</td>\n",
       "      <td>0</td>\n",
       "    </tr>\n",
       "    <tr>\n",
       "      <th>4</th>\n",
       "      <td>1277375421164613632t</td>\n",
       "      <td>We should have people w covid cough on white b...</td>\n",
       "      <td>we should have people w covid cough on white b...</td>\n",
       "      <td>0</td>\n",
       "    </tr>\n",
       "    <tr>\n",
       "      <th>...</th>\n",
       "      <td>...</td>\n",
       "      <td>...</td>\n",
       "      <td>...</td>\n",
       "      <td>...</td>\n",
       "    </tr>\n",
       "    <tr>\n",
       "      <th>395</th>\n",
       "      <td>1255420681581404163t</td>\n",
       "      <td>#bbcgms People who don't have COVID-19 cough s...</td>\n",
       "      <td>bbcgms people who do not have covid 19 cough ...</td>\n",
       "      <td>0</td>\n",
       "    </tr>\n",
       "    <tr>\n",
       "      <th>396</th>\n",
       "      <td>1331420575265394688t</td>\n",
       "      <td>Fatigue, shortness of breath, muscle aches, he...</td>\n",
       "      <td>fatigue  shortness of breath  muscle aches  he...</td>\n",
       "      <td>0</td>\n",
       "    </tr>\n",
       "    <tr>\n",
       "      <th>397</th>\n",
       "      <td>1272691373645467653t</td>\n",
       "      <td>I woke up today from my nap and my throat was ...</td>\n",
       "      <td>i woke up today from my nap and my throat was ...</td>\n",
       "      <td>2</td>\n",
       "    </tr>\n",
       "    <tr>\n",
       "      <th>398</th>\n",
       "      <td>1242065925337018369t</td>\n",
       "      <td>#coronavirusindia It's just beginning, isolati...</td>\n",
       "      <td>coronavirusindia it is just beginning  isolat...</td>\n",
       "      <td>0</td>\n",
       "    </tr>\n",
       "    <tr>\n",
       "      <th>399</th>\n",
       "      <td>1314084455741632512t</td>\n",
       "      <td>@WWomenL @TheyWereStolen You beat me to it, co...</td>\n",
       "      <td>wwomenl  theywerestolen you beat me to it  co...</td>\n",
       "      <td>0</td>\n",
       "    </tr>\n",
       "  </tbody>\n",
       "</table>\n",
       "<p>400 rows × 4 columns</p>\n",
       "</div>"
      ],
      "text/plain": [
       "                       id                                              tweet  \\\n",
       "0    1242353332817137664t  If you think you have been exposed to COVID-19...   \n",
       "1    1244712715827982339t  @timbovisser @BBCJohnBeattie Yes, myself, wife...   \n",
       "2    1314693013810089984t  Lots of people I know having positive covid te...   \n",
       "3    1307860995692527616t  @lizzyp144 @TomAThakkar Okay but doesn’t COVID...   \n",
       "4    1277375421164613632t  We should have people w covid cough on white b...   \n",
       "..                    ...                                                ...   \n",
       "395  1255420681581404163t  #bbcgms People who don't have COVID-19 cough s...   \n",
       "396  1331420575265394688t  Fatigue, shortness of breath, muscle aches, he...   \n",
       "397  1272691373645467653t  I woke up today from my nap and my throat was ...   \n",
       "398  1242065925337018369t  #coronavirusindia It's just beginning, isolati...   \n",
       "399  1314084455741632512t  @WWomenL @TheyWereStolen You beat me to it, co...   \n",
       "\n",
       "                                         tweet_cleaned  pred  \n",
       "0    if you think you have been exposed to covid 19...     0  \n",
       "1     timbovisser  bbcjohnbeattie yes  myself  wife...     3  \n",
       "2    lots of people i know having positive covid te...     1  \n",
       "3     lizzyp144  tomathakkar okay but does not covi...     0  \n",
       "4    we should have people w covid cough on white b...     0  \n",
       "..                                                 ...   ...  \n",
       "395   bbcgms people who do not have covid 19 cough ...     0  \n",
       "396  fatigue  shortness of breath  muscle aches  he...     0  \n",
       "397  i woke up today from my nap and my throat was ...     2  \n",
       "398   coronavirusindia it is just beginning  isolat...     0  \n",
       "399   wwomenl  theywerestolen you beat me to it  co...     0  \n",
       "\n",
       "[400 rows x 4 columns]"
      ]
     },
     "execution_count": 28,
     "metadata": {},
     "output_type": "execute_result"
    }
   ],
   "source": [
    "df_test['pred'] = np.argmax(ypred, axis=1)\n",
    "df_test"
   ]
  },
  {
   "cell_type": "code",
   "execution_count": 29,
   "metadata": {},
   "outputs": [],
   "source": [
    "y_map_inv = {\n",
    "    0: 'non-reporting',\n",
    "    1: 'third-party',\n",
    "    2: 'primary',\n",
    "    3:'secondary'\n",
    "}\n",
    "df_test['pred'] = df_test['pred'].map(y_map_inv)"
   ]
  },
  {
   "cell_type": "code",
   "execution_count": 30,
   "metadata": {},
   "outputs": [],
   "source": [
    "# df_test1[\"id\"]= df_test[\"id\"]\n",
    "df_test.to_csv(\"DATA@IITD_task2_run1.csv\")"
   ]
  },
  {
   "cell_type": "code",
   "execution_count": 31,
   "metadata": {},
   "outputs": [
    {
     "data": {
      "text/plain": [
       "non-reporting    226\n",
       "primary          108\n",
       "third-party       39\n",
       "secondary         27\n",
       "Name: pred, dtype: int64"
      ]
     },
     "execution_count": 31,
     "metadata": {},
     "output_type": "execute_result"
    }
   ],
   "source": [
    "df_test.pred.value_counts()"
   ]
  },
  {
   "cell_type": "code",
   "execution_count": null,
   "metadata": {
    "colab": {
     "base_uri": "https://localhost:8080/",
     "height": 295
    },
    "id": "3XLO099856Xm",
    "outputId": "48dc564b-bb94-45f5-9c2c-97b0b0c4582e"
   },
   "outputs": [],
   "source": [
    "y_map_inv = {\n",
    "    0: 'non-reporting',\n",
    "    1: 'third-party',\n",
    "    2: 'primary',\n",
    "    3:'secondary'\n",
    "}\n",
    "\n",
    "#     'non-reporting': 0, \n",
    "#     'third-party': 1, \n",
    "#     'primary': 2,\n",
    "#     'secondary':3\n",
    "\n",
    "# y_map = {\n",
    "#     'ProVax': 0, \n",
    "#     'AntiVax': 1, \n",
    "#     'Neutral': 2\n",
    "# }\n",
    "\n",
    "sns.heatmap(\n",
    "    pd.crosstab(df_test['ypred'].map(y_map_inv), df_test['Sentiment_Cat'].map(y_map_inv)),\n",
    "    annot=True,\n",
    "    fmt='0.0f',\n",
    "    cbar=False,\n",
    "    linewidth=2,\n",
    "    cmap='coolwarm'     \n",
    ")\n",
    "\n",
    "plt.xlabel('True')\n",
    "plt.ylabel('Predicted')\n",
    "plt.title('Confusion Matrix');"
   ]
  },
  {
   "cell_type": "code",
   "execution_count": null,
   "metadata": {
    "colab": {
     "base_uri": "https://localhost:8080/"
    },
    "id": "emwFinxTloyj",
    "outputId": "a0506108-9c50-413d-eea5-93cb6f6711ea"
   },
   "outputs": [],
   "source": [
    "y_test = df_test['Sentiment_Cat'].map(y_map_inv)\n",
    "y_pred = df_test['ypred'].map(y_map_inv)\n",
    "#importing confusion matrix\n",
    "from sklearn.metrics import confusion_matrix\n",
    "confusion = confusion_matrix(y_test, y_pred)\n",
    "print('Confusion Matrix\\n')\n",
    "print(confusion)\n",
    "\n",
    "#importing accuracy_score, precision_score, recall_score, f1_score\n",
    "from sklearn.metrics import accuracy_score, precision_score, recall_score, f1_score\n",
    "print('\\nAccuracy: {:.2f}\\n'.format(accuracy_score(y_test, y_pred)))\n",
    "\n",
    "print('Micro Precision: {:.2f}'.format(precision_score(y_test, y_pred, average='micro')))\n",
    "print('Micro Recall: {:.2f}'.format(recall_score(y_test, y_pred, average='micro')))\n",
    "print('Micro F1-score: {:.2f}\\n'.format(f1_score(y_test, y_pred, average='micro')))\n",
    "\n",
    "print('Macro Precision: {:.2f}'.format(precision_score(y_test, y_pred, average='macro')))\n",
    "print('Macro Recall: {:.2f}'.format(recall_score(y_test, y_pred, average='macro')))\n",
    "print('Macro F1-score: {:.2f}\\n'.format(f1_score(y_test, y_pred, average='macro')))\n",
    "\n",
    "print('Weighted Precision: {:.2f}'.format(precision_score(y_test, y_pred, average='weighted')))\n",
    "print('Weighted Recall: {:.2f}'.format(recall_score(y_test, y_pred, average='weighted')))\n",
    "print('Weighted F1-score: {:.2f}'.format(f1_score(y_test, y_pred, average='weighted')))\n",
    "\n",
    "from sklearn.metrics import classification_report\n",
    "print('\\nClassification Report\\n')\n",
    "print(classification_report(y_test, y_pred, target_names=['Class 1', 'Class 2', 'Class 3', 'Class 4']))\n"
   ]
  }
 ],
 "metadata": {
  "accelerator": "GPU",
  "colab": {
   "collapsed_sections": [],
   "name": "BERT.ipynb",
   "provenance": [],
   "toc_visible": true
  },
  "kernelspec": {
   "display_name": "Python 3 (ipykernel)",
   "language": "python",
   "name": "python3"
  },
  "language_info": {
   "codemirror_mode": {
    "name": "ipython",
    "version": 3
   },
   "file_extension": ".py",
   "mimetype": "text/x-python",
   "name": "python",
   "nbconvert_exporter": "python",
   "pygments_lexer": "ipython3",
   "version": "3.8.13"
  },
  "widgets": {
   "application/vnd.jupyter.widget-state+json": {
    "047433edb2294ed6a5d09485461dafaf": {
     "model_module": "@jupyter-widgets/controls",
     "model_module_version": "1.5.0",
     "model_name": "DescriptionStyleModel",
     "state": {
      "_model_module": "@jupyter-widgets/controls",
      "_model_module_version": "1.5.0",
      "_model_name": "DescriptionStyleModel",
      "_view_count": null,
      "_view_module": "@jupyter-widgets/base",
      "_view_module_version": "1.2.0",
      "_view_name": "StyleView",
      "description_width": ""
     }
    },
    "05594b7d82d74adcbd29779e61456fdc": {
     "model_module": "@jupyter-widgets/base",
     "model_module_version": "1.2.0",
     "model_name": "LayoutModel",
     "state": {
      "_model_module": "@jupyter-widgets/base",
      "_model_module_version": "1.2.0",
      "_model_name": "LayoutModel",
      "_view_count": null,
      "_view_module": "@jupyter-widgets/base",
      "_view_module_version": "1.2.0",
      "_view_name": "LayoutView",
      "align_content": null,
      "align_items": null,
      "align_self": null,
      "border": null,
      "bottom": null,
      "display": null,
      "flex": null,
      "flex_flow": null,
      "grid_area": null,
      "grid_auto_columns": null,
      "grid_auto_flow": null,
      "grid_auto_rows": null,
      "grid_column": null,
      "grid_gap": null,
      "grid_row": null,
      "grid_template_areas": null,
      "grid_template_columns": null,
      "grid_template_rows": null,
      "height": null,
      "justify_content": null,
      "justify_items": null,
      "left": null,
      "margin": null,
      "max_height": null,
      "max_width": null,
      "min_height": null,
      "min_width": null,
      "object_fit": null,
      "object_position": null,
      "order": null,
      "overflow": null,
      "overflow_x": null,
      "overflow_y": null,
      "padding": null,
      "right": null,
      "top": null,
      "visibility": null,
      "width": null
     }
    },
    "12cba3acb72c4241932490311a3db9b7": {
     "model_module": "@jupyter-widgets/base",
     "model_module_version": "1.2.0",
     "model_name": "LayoutModel",
     "state": {
      "_model_module": "@jupyter-widgets/base",
      "_model_module_version": "1.2.0",
      "_model_name": "LayoutModel",
      "_view_count": null,
      "_view_module": "@jupyter-widgets/base",
      "_view_module_version": "1.2.0",
      "_view_name": "LayoutView",
      "align_content": null,
      "align_items": null,
      "align_self": null,
      "border": null,
      "bottom": null,
      "display": null,
      "flex": null,
      "flex_flow": null,
      "grid_area": null,
      "grid_auto_columns": null,
      "grid_auto_flow": null,
      "grid_auto_rows": null,
      "grid_column": null,
      "grid_gap": null,
      "grid_row": null,
      "grid_template_areas": null,
      "grid_template_columns": null,
      "grid_template_rows": null,
      "height": null,
      "justify_content": null,
      "justify_items": null,
      "left": null,
      "margin": null,
      "max_height": null,
      "max_width": null,
      "min_height": null,
      "min_width": null,
      "object_fit": null,
      "object_position": null,
      "order": null,
      "overflow": null,
      "overflow_x": null,
      "overflow_y": null,
      "padding": null,
      "right": null,
      "top": null,
      "visibility": null,
      "width": null
     }
    },
    "240e3928c7b0429b840bb295344096d8": {
     "model_module": "@jupyter-widgets/controls",
     "model_module_version": "1.5.0",
     "model_name": "HTMLModel",
     "state": {
      "_dom_classes": [],
      "_model_module": "@jupyter-widgets/controls",
      "_model_module_version": "1.5.0",
      "_model_name": "HTMLModel",
      "_view_count": null,
      "_view_module": "@jupyter-widgets/controls",
      "_view_module_version": "1.5.0",
      "_view_name": "HTMLView",
      "description": "",
      "description_tooltip": null,
      "layout": "IPY_MODEL_8199b5e19de740aaaf0914965592da67",
      "placeholder": "​",
      "style": "IPY_MODEL_047433edb2294ed6a5d09485461dafaf",
      "value": " 232k/232k [00:00&lt;00:00, 1.80MB/s]"
     }
    },
    "331ba15225904739948ee6b85eab1681": {
     "model_module": "@jupyter-widgets/controls",
     "model_module_version": "1.5.0",
     "model_name": "DescriptionStyleModel",
     "state": {
      "_model_module": "@jupyter-widgets/controls",
      "_model_module_version": "1.5.0",
      "_model_name": "DescriptionStyleModel",
      "_view_count": null,
      "_view_module": "@jupyter-widgets/base",
      "_view_module_version": "1.2.0",
      "_view_name": "StyleView",
      "description_width": ""
     }
    },
    "39f380c5ce5d4b28b7ee38f8443de392": {
     "model_module": "@jupyter-widgets/base",
     "model_module_version": "1.2.0",
     "model_name": "LayoutModel",
     "state": {
      "_model_module": "@jupyter-widgets/base",
      "_model_module_version": "1.2.0",
      "_model_name": "LayoutModel",
      "_view_count": null,
      "_view_module": "@jupyter-widgets/base",
      "_view_module_version": "1.2.0",
      "_view_name": "LayoutView",
      "align_content": null,
      "align_items": null,
      "align_self": null,
      "border": null,
      "bottom": null,
      "display": null,
      "flex": null,
      "flex_flow": null,
      "grid_area": null,
      "grid_auto_columns": null,
      "grid_auto_flow": null,
      "grid_auto_rows": null,
      "grid_column": null,
      "grid_gap": null,
      "grid_row": null,
      "grid_template_areas": null,
      "grid_template_columns": null,
      "grid_template_rows": null,
      "height": null,
      "justify_content": null,
      "justify_items": null,
      "left": null,
      "margin": null,
      "max_height": null,
      "max_width": null,
      "min_height": null,
      "min_width": null,
      "object_fit": null,
      "object_position": null,
      "order": null,
      "overflow": null,
      "overflow_x": null,
      "overflow_y": null,
      "padding": null,
      "right": null,
      "top": null,
      "visibility": null,
      "width": null
     }
    },
    "46fcc097a774471d9d5b0da462d0adee": {
     "model_module": "@jupyter-widgets/base",
     "model_module_version": "1.2.0",
     "model_name": "LayoutModel",
     "state": {
      "_model_module": "@jupyter-widgets/base",
      "_model_module_version": "1.2.0",
      "_model_name": "LayoutModel",
      "_view_count": null,
      "_view_module": "@jupyter-widgets/base",
      "_view_module_version": "1.2.0",
      "_view_name": "LayoutView",
      "align_content": null,
      "align_items": null,
      "align_self": null,
      "border": null,
      "bottom": null,
      "display": null,
      "flex": null,
      "flex_flow": null,
      "grid_area": null,
      "grid_auto_columns": null,
      "grid_auto_flow": null,
      "grid_auto_rows": null,
      "grid_column": null,
      "grid_gap": null,
      "grid_row": null,
      "grid_template_areas": null,
      "grid_template_columns": null,
      "grid_template_rows": null,
      "height": null,
      "justify_content": null,
      "justify_items": null,
      "left": null,
      "margin": null,
      "max_height": null,
      "max_width": null,
      "min_height": null,
      "min_width": null,
      "object_fit": null,
      "object_position": null,
      "order": null,
      "overflow": null,
      "overflow_x": null,
      "overflow_y": null,
      "padding": null,
      "right": null,
      "top": null,
      "visibility": null,
      "width": null
     }
    },
    "5360080619a54288b1c944bdeff63ed8": {
     "model_module": "@jupyter-widgets/controls",
     "model_module_version": "1.5.0",
     "model_name": "HBoxModel",
     "state": {
      "_dom_classes": [],
      "_model_module": "@jupyter-widgets/controls",
      "_model_module_version": "1.5.0",
      "_model_name": "HBoxModel",
      "_view_count": null,
      "_view_module": "@jupyter-widgets/controls",
      "_view_module_version": "1.5.0",
      "_view_name": "HBoxView",
      "box_style": "",
      "children": [
       "IPY_MODEL_545f8142e13a416797d7bc4447eec9b3",
       "IPY_MODEL_240e3928c7b0429b840bb295344096d8"
      ],
      "layout": "IPY_MODEL_12cba3acb72c4241932490311a3db9b7"
     }
    },
    "545f8142e13a416797d7bc4447eec9b3": {
     "model_module": "@jupyter-widgets/controls",
     "model_module_version": "1.5.0",
     "model_name": "FloatProgressModel",
     "state": {
      "_dom_classes": [],
      "_model_module": "@jupyter-widgets/controls",
      "_model_module_version": "1.5.0",
      "_model_name": "FloatProgressModel",
      "_view_count": null,
      "_view_module": "@jupyter-widgets/controls",
      "_view_module_version": "1.5.0",
      "_view_name": "ProgressView",
      "bar_style": "success",
      "description": "Downloading: 100%",
      "description_tooltip": null,
      "layout": "IPY_MODEL_05594b7d82d74adcbd29779e61456fdc",
      "max": 231508,
      "min": 0,
      "orientation": "horizontal",
      "style": "IPY_MODEL_ef8bb469b2bd41e0a0542e13511cb41d",
      "value": 231508
     }
    },
    "5b36de7b57514e6d856b0c28e9fdda89": {
     "model_module": "@jupyter-widgets/controls",
     "model_module_version": "1.5.0",
     "model_name": "HBoxModel",
     "state": {
      "_dom_classes": [],
      "_model_module": "@jupyter-widgets/controls",
      "_model_module_version": "1.5.0",
      "_model_name": "HBoxModel",
      "_view_count": null,
      "_view_module": "@jupyter-widgets/controls",
      "_view_module_version": "1.5.0",
      "_view_name": "HBoxView",
      "box_style": "",
      "children": [
       "IPY_MODEL_9654d2e9944441cb8f47c4cef976a56d",
       "IPY_MODEL_f761fda51efb470d86985f2c9a6a615b"
      ],
      "layout": "IPY_MODEL_39f380c5ce5d4b28b7ee38f8443de392"
     }
    },
    "6566e64742254d31881c08655ff5eb14": {
     "model_module": "@jupyter-widgets/controls",
     "model_module_version": "1.5.0",
     "model_name": "HTMLModel",
     "state": {
      "_dom_classes": [],
      "_model_module": "@jupyter-widgets/controls",
      "_model_module_version": "1.5.0",
      "_model_name": "HTMLModel",
      "_view_count": null,
      "_view_module": "@jupyter-widgets/controls",
      "_view_module_version": "1.5.0",
      "_view_name": "HTMLView",
      "description": "",
      "description_tooltip": null,
      "layout": "IPY_MODEL_d4caac91813642d5b4c099f6e378cc43",
      "placeholder": "​",
      "style": "IPY_MODEL_331ba15225904739948ee6b85eab1681",
      "value": " 28.0/28.0 [00:15&lt;00:00, 1.85B/s]"
     }
    },
    "7d4f84f81fc543e19708199e8f0635c5": {
     "model_module": "@jupyter-widgets/controls",
     "model_module_version": "1.5.0",
     "model_name": "HBoxModel",
     "state": {
      "_dom_classes": [],
      "_model_module": "@jupyter-widgets/controls",
      "_model_module_version": "1.5.0",
      "_model_name": "HBoxModel",
      "_view_count": null,
      "_view_module": "@jupyter-widgets/controls",
      "_view_module_version": "1.5.0",
      "_view_name": "HBoxView",
      "box_style": "",
      "children": [
       "IPY_MODEL_8db0301f01a94d28bc76a1e3e675eb4d",
       "IPY_MODEL_6566e64742254d31881c08655ff5eb14"
      ],
      "layout": "IPY_MODEL_b0f4d5c64f76419fa11802b3fe8d5f07"
     }
    },
    "8199b5e19de740aaaf0914965592da67": {
     "model_module": "@jupyter-widgets/base",
     "model_module_version": "1.2.0",
     "model_name": "LayoutModel",
     "state": {
      "_model_module": "@jupyter-widgets/base",
      "_model_module_version": "1.2.0",
      "_model_name": "LayoutModel",
      "_view_count": null,
      "_view_module": "@jupyter-widgets/base",
      "_view_module_version": "1.2.0",
      "_view_name": "LayoutView",
      "align_content": null,
      "align_items": null,
      "align_self": null,
      "border": null,
      "bottom": null,
      "display": null,
      "flex": null,
      "flex_flow": null,
      "grid_area": null,
      "grid_auto_columns": null,
      "grid_auto_flow": null,
      "grid_auto_rows": null,
      "grid_column": null,
      "grid_gap": null,
      "grid_row": null,
      "grid_template_areas": null,
      "grid_template_columns": null,
      "grid_template_rows": null,
      "height": null,
      "justify_content": null,
      "justify_items": null,
      "left": null,
      "margin": null,
      "max_height": null,
      "max_width": null,
      "min_height": null,
      "min_width": null,
      "object_fit": null,
      "object_position": null,
      "order": null,
      "overflow": null,
      "overflow_x": null,
      "overflow_y": null,
      "padding": null,
      "right": null,
      "top": null,
      "visibility": null,
      "width": null
     }
    },
    "8db0301f01a94d28bc76a1e3e675eb4d": {
     "model_module": "@jupyter-widgets/controls",
     "model_module_version": "1.5.0",
     "model_name": "FloatProgressModel",
     "state": {
      "_dom_classes": [],
      "_model_module": "@jupyter-widgets/controls",
      "_model_module_version": "1.5.0",
      "_model_name": "FloatProgressModel",
      "_view_count": null,
      "_view_module": "@jupyter-widgets/controls",
      "_view_module_version": "1.5.0",
      "_view_name": "ProgressView",
      "bar_style": "success",
      "description": "Downloading: 100%",
      "description_tooltip": null,
      "layout": "IPY_MODEL_46fcc097a774471d9d5b0da462d0adee",
      "max": 28,
      "min": 0,
      "orientation": "horizontal",
      "style": "IPY_MODEL_9adbcf2684204b3abdb55f132751aceb",
      "value": 28
     }
    },
    "91c603866e604cde9081ffeb231b96ff": {
     "model_module": "@jupyter-widgets/controls",
     "model_module_version": "1.5.0",
     "model_name": "ProgressStyleModel",
     "state": {
      "_model_module": "@jupyter-widgets/controls",
      "_model_module_version": "1.5.0",
      "_model_name": "ProgressStyleModel",
      "_view_count": null,
      "_view_module": "@jupyter-widgets/base",
      "_view_module_version": "1.2.0",
      "_view_name": "StyleView",
      "bar_color": null,
      "description_width": "initial"
     }
    },
    "9654d2e9944441cb8f47c4cef976a56d": {
     "model_module": "@jupyter-widgets/controls",
     "model_module_version": "1.5.0",
     "model_name": "FloatProgressModel",
     "state": {
      "_dom_classes": [],
      "_model_module": "@jupyter-widgets/controls",
      "_model_module_version": "1.5.0",
      "_model_name": "FloatProgressModel",
      "_view_count": null,
      "_view_module": "@jupyter-widgets/controls",
      "_view_module_version": "1.5.0",
      "_view_name": "ProgressView",
      "bar_style": "success",
      "description": "Downloading: 100%",
      "description_tooltip": null,
      "layout": "IPY_MODEL_caa5ff43ddef4b74bbcc2ce9e36a100b",
      "max": 466062,
      "min": 0,
      "orientation": "horizontal",
      "style": "IPY_MODEL_91c603866e604cde9081ffeb231b96ff",
      "value": 466062
     }
    },
    "9adbcf2684204b3abdb55f132751aceb": {
     "model_module": "@jupyter-widgets/controls",
     "model_module_version": "1.5.0",
     "model_name": "ProgressStyleModel",
     "state": {
      "_model_module": "@jupyter-widgets/controls",
      "_model_module_version": "1.5.0",
      "_model_name": "ProgressStyleModel",
      "_view_count": null,
      "_view_module": "@jupyter-widgets/base",
      "_view_module_version": "1.2.0",
      "_view_name": "StyleView",
      "bar_color": null,
      "description_width": "initial"
     }
    },
    "ad0d79bd1fd847b38e7ce1a67266bb21": {
     "model_module": "@jupyter-widgets/controls",
     "model_module_version": "1.5.0",
     "model_name": "DescriptionStyleModel",
     "state": {
      "_model_module": "@jupyter-widgets/controls",
      "_model_module_version": "1.5.0",
      "_model_name": "DescriptionStyleModel",
      "_view_count": null,
      "_view_module": "@jupyter-widgets/base",
      "_view_module_version": "1.2.0",
      "_view_name": "StyleView",
      "description_width": ""
     }
    },
    "b0f4d5c64f76419fa11802b3fe8d5f07": {
     "model_module": "@jupyter-widgets/base",
     "model_module_version": "1.2.0",
     "model_name": "LayoutModel",
     "state": {
      "_model_module": "@jupyter-widgets/base",
      "_model_module_version": "1.2.0",
      "_model_name": "LayoutModel",
      "_view_count": null,
      "_view_module": "@jupyter-widgets/base",
      "_view_module_version": "1.2.0",
      "_view_name": "LayoutView",
      "align_content": null,
      "align_items": null,
      "align_self": null,
      "border": null,
      "bottom": null,
      "display": null,
      "flex": null,
      "flex_flow": null,
      "grid_area": null,
      "grid_auto_columns": null,
      "grid_auto_flow": null,
      "grid_auto_rows": null,
      "grid_column": null,
      "grid_gap": null,
      "grid_row": null,
      "grid_template_areas": null,
      "grid_template_columns": null,
      "grid_template_rows": null,
      "height": null,
      "justify_content": null,
      "justify_items": null,
      "left": null,
      "margin": null,
      "max_height": null,
      "max_width": null,
      "min_height": null,
      "min_width": null,
      "object_fit": null,
      "object_position": null,
      "order": null,
      "overflow": null,
      "overflow_x": null,
      "overflow_y": null,
      "padding": null,
      "right": null,
      "top": null,
      "visibility": null,
      "width": null
     }
    },
    "b860f7e56c9c43b1b8088b41c18ac974": {
     "model_module": "@jupyter-widgets/base",
     "model_module_version": "1.2.0",
     "model_name": "LayoutModel",
     "state": {
      "_model_module": "@jupyter-widgets/base",
      "_model_module_version": "1.2.0",
      "_model_name": "LayoutModel",
      "_view_count": null,
      "_view_module": "@jupyter-widgets/base",
      "_view_module_version": "1.2.0",
      "_view_name": "LayoutView",
      "align_content": null,
      "align_items": null,
      "align_self": null,
      "border": null,
      "bottom": null,
      "display": null,
      "flex": null,
      "flex_flow": null,
      "grid_area": null,
      "grid_auto_columns": null,
      "grid_auto_flow": null,
      "grid_auto_rows": null,
      "grid_column": null,
      "grid_gap": null,
      "grid_row": null,
      "grid_template_areas": null,
      "grid_template_columns": null,
      "grid_template_rows": null,
      "height": null,
      "justify_content": null,
      "justify_items": null,
      "left": null,
      "margin": null,
      "max_height": null,
      "max_width": null,
      "min_height": null,
      "min_width": null,
      "object_fit": null,
      "object_position": null,
      "order": null,
      "overflow": null,
      "overflow_x": null,
      "overflow_y": null,
      "padding": null,
      "right": null,
      "top": null,
      "visibility": null,
      "width": null
     }
    },
    "caa5ff43ddef4b74bbcc2ce9e36a100b": {
     "model_module": "@jupyter-widgets/base",
     "model_module_version": "1.2.0",
     "model_name": "LayoutModel",
     "state": {
      "_model_module": "@jupyter-widgets/base",
      "_model_module_version": "1.2.0",
      "_model_name": "LayoutModel",
      "_view_count": null,
      "_view_module": "@jupyter-widgets/base",
      "_view_module_version": "1.2.0",
      "_view_name": "LayoutView",
      "align_content": null,
      "align_items": null,
      "align_self": null,
      "border": null,
      "bottom": null,
      "display": null,
      "flex": null,
      "flex_flow": null,
      "grid_area": null,
      "grid_auto_columns": null,
      "grid_auto_flow": null,
      "grid_auto_rows": null,
      "grid_column": null,
      "grid_gap": null,
      "grid_row": null,
      "grid_template_areas": null,
      "grid_template_columns": null,
      "grid_template_rows": null,
      "height": null,
      "justify_content": null,
      "justify_items": null,
      "left": null,
      "margin": null,
      "max_height": null,
      "max_width": null,
      "min_height": null,
      "min_width": null,
      "object_fit": null,
      "object_position": null,
      "order": null,
      "overflow": null,
      "overflow_x": null,
      "overflow_y": null,
      "padding": null,
      "right": null,
      "top": null,
      "visibility": null,
      "width": null
     }
    },
    "d4caac91813642d5b4c099f6e378cc43": {
     "model_module": "@jupyter-widgets/base",
     "model_module_version": "1.2.0",
     "model_name": "LayoutModel",
     "state": {
      "_model_module": "@jupyter-widgets/base",
      "_model_module_version": "1.2.0",
      "_model_name": "LayoutModel",
      "_view_count": null,
      "_view_module": "@jupyter-widgets/base",
      "_view_module_version": "1.2.0",
      "_view_name": "LayoutView",
      "align_content": null,
      "align_items": null,
      "align_self": null,
      "border": null,
      "bottom": null,
      "display": null,
      "flex": null,
      "flex_flow": null,
      "grid_area": null,
      "grid_auto_columns": null,
      "grid_auto_flow": null,
      "grid_auto_rows": null,
      "grid_column": null,
      "grid_gap": null,
      "grid_row": null,
      "grid_template_areas": null,
      "grid_template_columns": null,
      "grid_template_rows": null,
      "height": null,
      "justify_content": null,
      "justify_items": null,
      "left": null,
      "margin": null,
      "max_height": null,
      "max_width": null,
      "min_height": null,
      "min_width": null,
      "object_fit": null,
      "object_position": null,
      "order": null,
      "overflow": null,
      "overflow_x": null,
      "overflow_y": null,
      "padding": null,
      "right": null,
      "top": null,
      "visibility": null,
      "width": null
     }
    },
    "ef8bb469b2bd41e0a0542e13511cb41d": {
     "model_module": "@jupyter-widgets/controls",
     "model_module_version": "1.5.0",
     "model_name": "ProgressStyleModel",
     "state": {
      "_model_module": "@jupyter-widgets/controls",
      "_model_module_version": "1.5.0",
      "_model_name": "ProgressStyleModel",
      "_view_count": null,
      "_view_module": "@jupyter-widgets/base",
      "_view_module_version": "1.2.0",
      "_view_name": "StyleView",
      "bar_color": null,
      "description_width": "initial"
     }
    },
    "f761fda51efb470d86985f2c9a6a615b": {
     "model_module": "@jupyter-widgets/controls",
     "model_module_version": "1.5.0",
     "model_name": "HTMLModel",
     "state": {
      "_dom_classes": [],
      "_model_module": "@jupyter-widgets/controls",
      "_model_module_version": "1.5.0",
      "_model_name": "HTMLModel",
      "_view_count": null,
      "_view_module": "@jupyter-widgets/controls",
      "_view_module_version": "1.5.0",
      "_view_name": "HTMLView",
      "description": "",
      "description_tooltip": null,
      "layout": "IPY_MODEL_b860f7e56c9c43b1b8088b41c18ac974",
      "placeholder": "​",
      "style": "IPY_MODEL_ad0d79bd1fd847b38e7ce1a67266bb21",
      "value": " 466k/466k [00:29&lt;00:00, 15.5kB/s]"
     }
    }
   }
  }
 },
 "nbformat": 4,
 "nbformat_minor": 1
}
